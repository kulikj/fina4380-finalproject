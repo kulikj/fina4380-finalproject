{
 "cells": [
  {
   "cell_type": "markdown",
   "metadata": {},
   "source": [
    "## Group Assignment"
   ]
  },
  {
   "cell_type": "markdown",
   "metadata": {},
   "source": [
    "#### Import the necessary libraries"
   ]
  },
  {
   "cell_type": "code",
   "execution_count": 1,
   "metadata": {},
   "outputs": [],
   "source": [
    "import numpy as np\n",
    "import pandas as pd\n",
    "import datetime as dt\n",
    "import yfinance as yf\n",
    "from scipy.optimize import minimize\n",
    "import pandas_datareader.data as web\n",
    "import matplotlib.pyplot as plt"
   ]
  },
  {
   "cell_type": "markdown",
   "metadata": {},
   "source": [
    "#### All questions in Parts I and II apply to a random sample of 15 stocks that your group will be assigned by running the following code."
   ]
  },
  {
   "cell_type": "markdown",
   "metadata": {},
   "source": [
    "#### Random Sample Selection "
   ]
  },
  {
   "cell_type": "code",
   "execution_count": 2,
   "metadata": {},
   "outputs": [
    {
     "name": "stdout",
     "output_type": "stream",
     "text": [
      "These are the fifteen stocks assigned to you: V JNJ CAT CSCO CVX C NKE TRV MCD INTC DIS IBM PFE GS MRK\n"
     ]
    }
   ],
   "source": [
    "np.random.seed (2051 + 11)\n",
    "ticker_list = ['AAPL', 'AXP', 'BA', 'C','CAT', 'CSCO', 'CVX', 'DIS', 'GS', 'HD', 'IBM', 'INTC', 'JNJ', 'JPM', 'KO',\n",
    "            'MCD', 'MMM', 'MRK', 'MSFT', 'NKE', 'PFE', 'PG', 'TRV', 'UNH', 'V', 'VZ', 'WMT', 'XOM']\n",
    "\n",
    "stock_list = np.random.choice(ticker_list,15,replace=False)\n",
    "print(f'These are the fifteen stocks assigned to you: {\" \".join(stock_list)}')"
   ]
  },
  {
   "cell_type": "markdown",
   "metadata": {},
   "source": [
    "### PART I"
   ]
  },
  {
   "cell_type": "markdown",
   "metadata": {},
   "source": [
    "#### 1. Find the optimal portfolio over the period January 2015 - December 2019, using the fifteen stocks assigned to your group. Assume there are no short-selling constraints."
   ]
  },
  {
   "cell_type": "code",
   "execution_count": 3,
   "metadata": {
    "scrolled": true
   },
   "outputs": [
    {
     "name": "stdout",
     "output_type": "stream",
     "text": [
      "[*********************100%***********************]  15 of 15 completed\n"
     ]
    },
    {
     "data": {
      "text/html": [
       "<div>\n",
       "<style scoped>\n",
       "    .dataframe tbody tr th:only-of-type {\n",
       "        vertical-align: middle;\n",
       "    }\n",
       "\n",
       "    .dataframe tbody tr th {\n",
       "        vertical-align: top;\n",
       "    }\n",
       "\n",
       "    .dataframe thead th {\n",
       "        text-align: right;\n",
       "    }\n",
       "</style>\n",
       "<table border=\"1\" class=\"dataframe\">\n",
       "  <thead>\n",
       "    <tr style=\"text-align: right;\">\n",
       "      <th></th>\n",
       "      <th>C</th>\n",
       "      <th>CAT</th>\n",
       "      <th>CSCO</th>\n",
       "      <th>CVX</th>\n",
       "      <th>DIS</th>\n",
       "      <th>GS</th>\n",
       "      <th>IBM</th>\n",
       "      <th>INTC</th>\n",
       "      <th>JNJ</th>\n",
       "      <th>MCD</th>\n",
       "      <th>MRK</th>\n",
       "      <th>NKE</th>\n",
       "      <th>PFE</th>\n",
       "      <th>TRV</th>\n",
       "      <th>V</th>\n",
       "    </tr>\n",
       "    <tr>\n",
       "      <th>Date</th>\n",
       "      <th></th>\n",
       "      <th></th>\n",
       "      <th></th>\n",
       "      <th></th>\n",
       "      <th></th>\n",
       "      <th></th>\n",
       "      <th></th>\n",
       "      <th></th>\n",
       "      <th></th>\n",
       "      <th></th>\n",
       "      <th></th>\n",
       "      <th></th>\n",
       "      <th></th>\n",
       "      <th></th>\n",
       "      <th></th>\n",
       "    </tr>\n",
       "  </thead>\n",
       "  <tbody>\n",
       "    <tr>\n",
       "      <th>2015-01-02</th>\n",
       "      <td>0.002772</td>\n",
       "      <td>0.003824</td>\n",
       "      <td>-0.000724</td>\n",
       "      <td>0.003566</td>\n",
       "      <td>-0.004671</td>\n",
       "      <td>0.002992</td>\n",
       "      <td>0.010097</td>\n",
       "      <td>0.001929</td>\n",
       "      <td>-0.000478</td>\n",
       "      <td>-0.004696</td>\n",
       "      <td>0.007044</td>\n",
       "      <td>-0.011648</td>\n",
       "      <td>0.005778</td>\n",
       "      <td>-0.003874</td>\n",
       "      <td>0.010755</td>\n",
       "    </tr>\n",
       "    <tr>\n",
       "      <th>2015-01-05</th>\n",
       "      <td>-0.031515</td>\n",
       "      <td>-0.052786</td>\n",
       "      <td>-0.019921</td>\n",
       "      <td>-0.039972</td>\n",
       "      <td>-0.014613</td>\n",
       "      <td>-0.031223</td>\n",
       "      <td>-0.015735</td>\n",
       "      <td>-0.011276</td>\n",
       "      <td>-0.006984</td>\n",
       "      <td>-0.011044</td>\n",
       "      <td>0.014862</td>\n",
       "      <td>-0.016100</td>\n",
       "      <td>-0.005426</td>\n",
       "      <td>-0.012045</td>\n",
       "      <td>-0.022074</td>\n",
       "    </tr>\n",
       "    <tr>\n",
       "      <th>2015-01-06</th>\n",
       "      <td>-0.035204</td>\n",
       "      <td>-0.006435</td>\n",
       "      <td>-0.000369</td>\n",
       "      <td>-0.000463</td>\n",
       "      <td>-0.005304</td>\n",
       "      <td>-0.020230</td>\n",
       "      <td>-0.021566</td>\n",
       "      <td>-0.018637</td>\n",
       "      <td>-0.004914</td>\n",
       "      <td>0.001843</td>\n",
       "      <td>0.039283</td>\n",
       "      <td>-0.005883</td>\n",
       "      <td>0.008344</td>\n",
       "      <td>-0.008928</td>\n",
       "      <td>-0.006444</td>\n",
       "    </tr>\n",
       "    <tr>\n",
       "      <th>2015-01-07</th>\n",
       "      <td>0.009270</td>\n",
       "      <td>0.015497</td>\n",
       "      <td>0.009242</td>\n",
       "      <td>-0.000833</td>\n",
       "      <td>0.010230</td>\n",
       "      <td>0.014903</td>\n",
       "      <td>-0.006536</td>\n",
       "      <td>0.020975</td>\n",
       "      <td>0.022076</td>\n",
       "      <td>0.017424</td>\n",
       "      <td>0.021386</td>\n",
       "      <td>0.020657</td>\n",
       "      <td>0.013686</td>\n",
       "      <td>0.017048</td>\n",
       "      <td>0.013398</td>\n",
       "    </tr>\n",
       "    <tr>\n",
       "      <th>2015-01-08</th>\n",
       "      <td>0.015048</td>\n",
       "      <td>0.010249</td>\n",
       "      <td>0.007692</td>\n",
       "      <td>0.022883</td>\n",
       "      <td>0.010342</td>\n",
       "      <td>0.015965</td>\n",
       "      <td>0.021735</td>\n",
       "      <td>0.018600</td>\n",
       "      <td>0.007863</td>\n",
       "      <td>0.003723</td>\n",
       "      <td>0.020127</td>\n",
       "      <td>0.023084</td>\n",
       "      <td>0.020408</td>\n",
       "      <td>0.020762</td>\n",
       "      <td>0.013413</td>\n",
       "    </tr>\n",
       "  </tbody>\n",
       "</table>\n",
       "</div>"
      ],
      "text/plain": [
       "                   C       CAT      CSCO       CVX       DIS        GS  \\\n",
       "Date                                                                     \n",
       "2015-01-02  0.002772  0.003824 -0.000724  0.003566 -0.004671  0.002992   \n",
       "2015-01-05 -0.031515 -0.052786 -0.019921 -0.039972 -0.014613 -0.031223   \n",
       "2015-01-06 -0.035204 -0.006435 -0.000369 -0.000463 -0.005304 -0.020230   \n",
       "2015-01-07  0.009270  0.015497  0.009242 -0.000833  0.010230  0.014903   \n",
       "2015-01-08  0.015048  0.010249  0.007692  0.022883  0.010342  0.015965   \n",
       "\n",
       "                 IBM      INTC       JNJ       MCD       MRK       NKE  \\\n",
       "Date                                                                     \n",
       "2015-01-02  0.010097  0.001929 -0.000478 -0.004696  0.007044 -0.011648   \n",
       "2015-01-05 -0.015735 -0.011276 -0.006984 -0.011044  0.014862 -0.016100   \n",
       "2015-01-06 -0.021566 -0.018637 -0.004914  0.001843  0.039283 -0.005883   \n",
       "2015-01-07 -0.006536  0.020975  0.022076  0.017424  0.021386  0.020657   \n",
       "2015-01-08  0.021735  0.018600  0.007863  0.003723  0.020127  0.023084   \n",
       "\n",
       "                 PFE       TRV         V  \n",
       "Date                                      \n",
       "2015-01-02  0.005778 -0.003874  0.010755  \n",
       "2015-01-05 -0.005426 -0.012045 -0.022074  \n",
       "2015-01-06  0.008344 -0.008928 -0.006444  \n",
       "2015-01-07  0.013686  0.017048  0.013398  \n",
       "2015-01-08  0.020408  0.020762  0.013413  "
      ]
     },
     "execution_count": 3,
     "metadata": {},
     "output_type": "execute_result"
    }
   ],
   "source": [
    "start=dt.datetime(2015,1,1)\n",
    "end=dt.datetime(2019,12,31)\n",
    "df=yf.download(list(stock_list),start-pd.offsets.BDay(1),end+pd.offsets.BDay(1))['Adj Close'].pct_change().dropna()\n",
    "df.head()"
   ]
  },
  {
   "cell_type": "code",
   "execution_count": 4,
   "metadata": {},
   "outputs": [
    {
     "data": {
      "text/html": [
       "<div>\n",
       "<style scoped>\n",
       "    .dataframe tbody tr th:only-of-type {\n",
       "        vertical-align: middle;\n",
       "    }\n",
       "\n",
       "    .dataframe tbody tr th {\n",
       "        vertical-align: top;\n",
       "    }\n",
       "\n",
       "    .dataframe thead th {\n",
       "        text-align: right;\n",
       "    }\n",
       "</style>\n",
       "<table border=\"1\" class=\"dataframe\">\n",
       "  <thead>\n",
       "    <tr style=\"text-align: right;\">\n",
       "      <th></th>\n",
       "      <th>C</th>\n",
       "      <th>CAT</th>\n",
       "      <th>CSCO</th>\n",
       "      <th>CVX</th>\n",
       "      <th>DIS</th>\n",
       "      <th>GS</th>\n",
       "      <th>IBM</th>\n",
       "      <th>INTC</th>\n",
       "      <th>JNJ</th>\n",
       "      <th>MCD</th>\n",
       "      <th>MRK</th>\n",
       "      <th>NKE</th>\n",
       "      <th>PFE</th>\n",
       "      <th>TRV</th>\n",
       "      <th>V</th>\n",
       "    </tr>\n",
       "    <tr>\n",
       "      <th>Date</th>\n",
       "      <th></th>\n",
       "      <th></th>\n",
       "      <th></th>\n",
       "      <th></th>\n",
       "      <th></th>\n",
       "      <th></th>\n",
       "      <th></th>\n",
       "      <th></th>\n",
       "      <th></th>\n",
       "      <th></th>\n",
       "      <th></th>\n",
       "      <th></th>\n",
       "      <th></th>\n",
       "      <th></th>\n",
       "      <th></th>\n",
       "    </tr>\n",
       "  </thead>\n",
       "  <tbody>\n",
       "    <tr>\n",
       "      <th>2019-08-31</th>\n",
       "      <td>-0.088902</td>\n",
       "      <td>-0.096225</td>\n",
       "      <td>-0.155054</td>\n",
       "      <td>-0.033952</td>\n",
       "      <td>-0.040207</td>\n",
       "      <td>-0.067870</td>\n",
       "      <td>-0.074967</td>\n",
       "      <td>-0.055784</td>\n",
       "      <td>-0.006897</td>\n",
       "      <td>0.039875</td>\n",
       "      <td>0.041933</td>\n",
       "      <td>-0.015247</td>\n",
       "      <td>-0.076144</td>\n",
       "      <td>0.002319</td>\n",
       "      <td>0.017308</td>\n",
       "    </tr>\n",
       "    <tr>\n",
       "      <th>2019-09-30</th>\n",
       "      <td>0.073504</td>\n",
       "      <td>0.061429</td>\n",
       "      <td>0.055544</td>\n",
       "      <td>0.007475</td>\n",
       "      <td>-0.050561</td>\n",
       "      <td>0.016282</td>\n",
       "      <td>0.072973</td>\n",
       "      <td>0.086902</td>\n",
       "      <td>0.007946</td>\n",
       "      <td>-0.014956</td>\n",
       "      <td>-0.020013</td>\n",
       "      <td>0.111479</td>\n",
       "      <td>0.010689</td>\n",
       "      <td>0.017229</td>\n",
       "      <td>-0.048723</td>\n",
       "    </tr>\n",
       "    <tr>\n",
       "      <th>2019-10-31</th>\n",
       "      <td>0.040243</td>\n",
       "      <td>0.099542</td>\n",
       "      <td>-0.031171</td>\n",
       "      <td>-0.020742</td>\n",
       "      <td>-0.003069</td>\n",
       "      <td>0.029677</td>\n",
       "      <td>-0.080388</td>\n",
       "      <td>0.097031</td>\n",
       "      <td>0.020560</td>\n",
       "      <td>-0.083881</td>\n",
       "      <td>0.029461</td>\n",
       "      <td>-0.046529</td>\n",
       "      <td>0.067910</td>\n",
       "      <td>-0.118569</td>\n",
       "      <td>0.039823</td>\n",
       "    </tr>\n",
       "    <tr>\n",
       "      <th>2019-11-30</th>\n",
       "      <td>0.052838</td>\n",
       "      <td>0.050290</td>\n",
       "      <td>-0.046306</td>\n",
       "      <td>0.018461</td>\n",
       "      <td>0.166718</td>\n",
       "      <td>0.043200</td>\n",
       "      <td>0.017259</td>\n",
       "      <td>0.032540</td>\n",
       "      <td>0.048490</td>\n",
       "      <td>-0.004950</td>\n",
       "      <td>0.006000</td>\n",
       "      <td>0.046721</td>\n",
       "      <td>0.013611</td>\n",
       "      <td>0.043186</td>\n",
       "      <td>0.033317</td>\n",
       "    </tr>\n",
       "    <tr>\n",
       "      <th>2019-12-31</th>\n",
       "      <td>0.063498</td>\n",
       "      <td>0.020383</td>\n",
       "      <td>0.058486</td>\n",
       "      <td>0.028857</td>\n",
       "      <td>-0.040134</td>\n",
       "      <td>0.038762</td>\n",
       "      <td>-0.003050</td>\n",
       "      <td>0.031008</td>\n",
       "      <td>0.060950</td>\n",
       "      <td>0.016094</td>\n",
       "      <td>0.050397</td>\n",
       "      <td>0.083646</td>\n",
       "      <td>0.017134</td>\n",
       "      <td>0.007771</td>\n",
       "      <td>0.018373</td>\n",
       "    </tr>\n",
       "  </tbody>\n",
       "</table>\n",
       "</div>"
      ],
      "text/plain": [
       "                   C       CAT      CSCO       CVX       DIS        GS  \\\n",
       "Date                                                                     \n",
       "2019-08-31 -0.088902 -0.096225 -0.155054 -0.033952 -0.040207 -0.067870   \n",
       "2019-09-30  0.073504  0.061429  0.055544  0.007475 -0.050561  0.016282   \n",
       "2019-10-31  0.040243  0.099542 -0.031171 -0.020742 -0.003069  0.029677   \n",
       "2019-11-30  0.052838  0.050290 -0.046306  0.018461  0.166718  0.043200   \n",
       "2019-12-31  0.063498  0.020383  0.058486  0.028857 -0.040134  0.038762   \n",
       "\n",
       "                 IBM      INTC       JNJ       MCD       MRK       NKE  \\\n",
       "Date                                                                     \n",
       "2019-08-31 -0.074967 -0.055784 -0.006897  0.039875  0.041933 -0.015247   \n",
       "2019-09-30  0.072973  0.086902  0.007946 -0.014956 -0.020013  0.111479   \n",
       "2019-10-31 -0.080388  0.097031  0.020560 -0.083881  0.029461 -0.046529   \n",
       "2019-11-30  0.017259  0.032540  0.048490 -0.004950  0.006000  0.046721   \n",
       "2019-12-31 -0.003050  0.031008  0.060950  0.016094  0.050397  0.083646   \n",
       "\n",
       "                 PFE       TRV         V  \n",
       "Date                                      \n",
       "2019-08-31 -0.076144  0.002319  0.017308  \n",
       "2019-09-30  0.010689  0.017229 -0.048723  \n",
       "2019-10-31  0.067910 -0.118569  0.039823  \n",
       "2019-11-30  0.013611  0.043186  0.033317  \n",
       "2019-12-31  0.017134  0.007771  0.018373  "
      ]
     },
     "execution_count": 4,
     "metadata": {},
     "output_type": "execute_result"
    }
   ],
   "source": [
    "df = df.resample(rule = 'M').apply(lambda x: x.add(1).prod().sub(1))\n",
    "df.tail()"
   ]
  },
  {
   "cell_type": "code",
   "execution_count": 5,
   "metadata": {},
   "outputs": [
    {
     "data": {
      "text/html": [
       "<div>\n",
       "<style scoped>\n",
       "    .dataframe tbody tr th:only-of-type {\n",
       "        vertical-align: middle;\n",
       "    }\n",
       "\n",
       "    .dataframe tbody tr th {\n",
       "        vertical-align: top;\n",
       "    }\n",
       "\n",
       "    .dataframe thead th {\n",
       "        text-align: right;\n",
       "    }\n",
       "</style>\n",
       "<table border=\"1\" class=\"dataframe\">\n",
       "  <thead>\n",
       "    <tr style=\"text-align: right;\">\n",
       "      <th></th>\n",
       "      <th>RF</th>\n",
       "    </tr>\n",
       "    <tr>\n",
       "      <th>Date</th>\n",
       "      <th></th>\n",
       "    </tr>\n",
       "  </thead>\n",
       "  <tbody>\n",
       "    <tr>\n",
       "      <th>2019-08-31</th>\n",
       "      <td>0.0016</td>\n",
       "    </tr>\n",
       "    <tr>\n",
       "      <th>2019-09-30</th>\n",
       "      <td>0.0018</td>\n",
       "    </tr>\n",
       "    <tr>\n",
       "      <th>2019-10-31</th>\n",
       "      <td>0.0016</td>\n",
       "    </tr>\n",
       "    <tr>\n",
       "      <th>2019-11-30</th>\n",
       "      <td>0.0012</td>\n",
       "    </tr>\n",
       "    <tr>\n",
       "      <th>2019-12-31</th>\n",
       "      <td>0.0014</td>\n",
       "    </tr>\n",
       "  </tbody>\n",
       "</table>\n",
       "</div>"
      ],
      "text/plain": [
       "                RF\n",
       "Date              \n",
       "2019-08-31  0.0016\n",
       "2019-09-30  0.0018\n",
       "2019-10-31  0.0016\n",
       "2019-11-30  0.0012\n",
       "2019-12-31  0.0014"
      ]
     },
     "execution_count": 5,
     "metadata": {},
     "output_type": "execute_result"
    }
   ],
   "source": [
    "rf = web.DataReader('F-F_Research_Data_Factors','famafrench', start, end)[0][['RF']].div(100)\n",
    "\n",
    "rf.index = rf.index.to_timestamp(how='end').normalize()\n",
    "\n",
    "rf.tail()"
   ]
  },
  {
   "cell_type": "code",
   "execution_count": 6,
   "metadata": {},
   "outputs": [],
   "source": [
    "df = df[df.index<=rf.index[-1]]"
   ]
  },
  {
   "cell_type": "code",
   "execution_count": 7,
   "metadata": {},
   "outputs": [],
   "source": [
    "# Define the portfolio returns function\n",
    "def port_ret(weights):\n",
    "    port_ret = np.dot(df*12,weights).mean()\n",
    "    return port_ret\n",
    "\n",
    "# Define the portfolio standard deviation function\n",
    "def port_std(weights):\n",
    "    port_std = np.sqrt(np.dot(weights, np.dot(df.cov()*12, weights)))\n",
    "    return port_std\n",
    "\n",
    "# Define the excess portfolio returns function\n",
    "def ex_port_ret(weights):\n",
    "    ex_port_ret = (np.dot(df,weights) - rf['RF']).mean()*12\n",
    "    return ex_port_ret\n",
    "\n",
    "# Define the excess portfolio standard deviation function\n",
    "def ex_port_std(weights):\n",
    "    ex_port_std = (np.dot(df,weights) - rf['RF']).std()*np.sqrt(12)\n",
    "    return ex_port_std\n",
    "\n",
    "# Define the negative Sharpe Ratio function that we will minimize\n",
    "def neg_SR(weights):\n",
    "    SR = ex_port_ret(weights) / ex_port_std(weights)\n",
    "    return (-1)*SR"
   ]
  },
  {
   "cell_type": "code",
   "execution_count": 8,
   "metadata": {},
   "outputs": [],
   "source": [
    "# setting up constraints\n",
    "constraints = ({'type':'eq','fun': lambda weights: np.sum(weights) - 1})\n",
    "\n",
    "# equally weighted first guess\n",
    "init_guess = np.full(len(df.columns), 1/len(df.columns))"
   ]
  },
  {
   "cell_type": "code",
   "execution_count": 9,
   "metadata": {},
   "outputs": [
    {
     "data": {
      "text/plain": [
       "     fun: -2.0213686520886043\n",
       "     jac: array([-0.07702753, -0.07684273, -0.07683223, -0.0772211 , -0.07583231,\n",
       "       -0.07734424, -0.07695764, -0.07688069, -0.07660535, -0.07636923,\n",
       "       -0.07693172, -0.07695636, -0.07753482, -0.07631695, -0.07711756])\n",
       " message: 'Optimization terminated successfully'\n",
       "    nfev: 233\n",
       "     nit: 14\n",
       "    njev: 14\n",
       "  status: 0\n",
       " success: True\n",
       "       x: array([-0.12049027,  0.12277938, -0.02767574, -0.25612292, -0.02935374,\n",
       "        0.10965705, -0.10604985,  0.1265644 , -0.07922065,  0.60432128,\n",
       "        0.17241597,  0.30115346,  0.06801942, -0.30607076,  0.42007297])"
      ]
     },
     "execution_count": 9,
     "metadata": {},
     "output_type": "execute_result"
    }
   ],
   "source": [
    "# creating the optimal portfolio\n",
    "optimal_port = minimize(neg_SR,init_guess,constraints=constraints)\n",
    "optimal_port"
   ]
  },
  {
   "cell_type": "markdown",
   "metadata": {},
   "source": [
    "#### 2. What are the weights of the stocks in the optimal portfolio?"
   ]
  },
  {
   "cell_type": "code",
   "execution_count": 10,
   "metadata": {
    "scrolled": true
   },
   "outputs": [
    {
     "name": "stdout",
     "output_type": "stream",
     "text": [
      "V  -0.1205\n",
      "JNJ  0.1228\n",
      "CAT  -0.0277\n",
      "CSCO  -0.2561\n",
      "CVX  -0.0294\n",
      "C  0.1097\n",
      "NKE  -0.106\n",
      "TRV  0.1266\n",
      "MCD  -0.0792\n",
      "INTC  0.6043\n",
      "DIS  0.1724\n",
      "IBM  0.3012\n",
      "PFE  0.068\n",
      "GS  -0.3061\n",
      "MRK  0.4201\n"
     ]
    }
   ],
   "source": [
    "# weights of portfolio\n",
    "for tic in stock_list:\n",
    "    print(tic + \"  \"+ str(round(optimal_port.x[list(stock_list).index(tic)],4)))"
   ]
  },
  {
   "cell_type": "markdown",
   "metadata": {},
   "source": [
    "#### 3. What was the annualized average monthly return for the optimal portfolio?"
   ]
  },
  {
   "cell_type": "code",
   "execution_count": 11,
   "metadata": {},
   "outputs": [
    {
     "data": {
      "text/plain": [
       "0.26288993260231813"
      ]
     },
     "execution_count": 11,
     "metadata": {},
     "output_type": "execute_result"
    }
   ],
   "source": [
    "# portfolio return\n",
    "port_ret(optimal_port.x)"
   ]
  },
  {
   "cell_type": "markdown",
   "metadata": {},
   "source": [
    "#### 4. What was the annualized monthly standard deviation for the optimal portfolio?"
   ]
  },
  {
   "cell_type": "code",
   "execution_count": 12,
   "metadata": {},
   "outputs": [
    {
     "data": {
      "text/plain": [
       "0.1253188798793632"
      ]
     },
     "execution_count": 12,
     "metadata": {},
     "output_type": "execute_result"
    }
   ],
   "source": [
    "# std of portfolio\n",
    "port_std(optimal_port.x)"
   ]
  },
  {
   "cell_type": "markdown",
   "metadata": {},
   "source": [
    "#### 5. What was the Sharpe Ratio of the optimal portfolio?"
   ]
  },
  {
   "cell_type": "code",
   "execution_count": 13,
   "metadata": {},
   "outputs": [
    {
     "data": {
      "text/plain": [
       "2.0213686520886043"
      ]
     },
     "execution_count": 13,
     "metadata": {},
     "output_type": "execute_result"
    }
   ],
   "source": [
    "# sharpe ratio\n",
    "-optimal_port.fun"
   ]
  },
  {
   "cell_type": "markdown",
   "metadata": {},
   "source": [
    "### PART II"
   ]
  },
  {
   "cell_type": "markdown",
   "metadata": {
    "tags": []
   },
   "source": [
    "#### 1. Create a DataFrame named optimal_weights to store the weights from a portfolio optimization performed on a rolling basis. Specifically, the optimization should use a 60 month rolling window, and be performed every month. The first 60 months correspond to the sample period for data_initial (01/2015 - 12/2019) created in question 3. Hence, the first observation in the optimal_weights DataFrame should be the weights you listed above in Part I. The next 60 month period should be 02/2015 - 01/2020, followed by 03/2015 - 02/2020, and so on. The last 60 month period should be 03/2018 - 02/2023. Again, assume there are no short-selling constraints."
   ]
  },
  {
   "cell_type": "code",
   "execution_count": 14,
   "metadata": {},
   "outputs": [
    {
     "data": {
      "text/html": [
       "<div>\n",
       "<style scoped>\n",
       "    .dataframe tbody tr th:only-of-type {\n",
       "        vertical-align: middle;\n",
       "    }\n",
       "\n",
       "    .dataframe tbody tr th {\n",
       "        vertical-align: top;\n",
       "    }\n",
       "\n",
       "    .dataframe thead th {\n",
       "        text-align: right;\n",
       "    }\n",
       "</style>\n",
       "<table border=\"1\" class=\"dataframe\">\n",
       "  <thead>\n",
       "    <tr style=\"text-align: right;\">\n",
       "      <th></th>\n",
       "      <th>RF</th>\n",
       "    </tr>\n",
       "    <tr>\n",
       "      <th>Date</th>\n",
       "      <th></th>\n",
       "    </tr>\n",
       "  </thead>\n",
       "  <tbody>\n",
       "    <tr>\n",
       "      <th>2022-10-31</th>\n",
       "      <td>0.0023</td>\n",
       "    </tr>\n",
       "    <tr>\n",
       "      <th>2022-11-30</th>\n",
       "      <td>0.0029</td>\n",
       "    </tr>\n",
       "    <tr>\n",
       "      <th>2022-12-31</th>\n",
       "      <td>0.0033</td>\n",
       "    </tr>\n",
       "    <tr>\n",
       "      <th>2023-01-31</th>\n",
       "      <td>0.0035</td>\n",
       "    </tr>\n",
       "    <tr>\n",
       "      <th>2023-02-28</th>\n",
       "      <td>0.0034</td>\n",
       "    </tr>\n",
       "  </tbody>\n",
       "</table>\n",
       "</div>"
      ],
      "text/plain": [
       "                RF\n",
       "Date              \n",
       "2022-10-31  0.0023\n",
       "2022-11-30  0.0029\n",
       "2022-12-31  0.0033\n",
       "2023-01-31  0.0035\n",
       "2023-02-28  0.0034"
      ]
     },
     "execution_count": 14,
     "metadata": {},
     "output_type": "execute_result"
    }
   ],
   "source": [
    "# getting risk free rates\n",
    "start = dt.datetime(2015,1,1)\n",
    "end = dt.datetime(2023,3,31)\n",
    "rf = web.DataReader('F-F_Research_Data_Factors','famafrench', start, end)[0][['RF']].div(100)\n",
    "rf.index = rf.index.to_timestamp(how='end').normalize()\n",
    "rf.tail()"
   ]
  },
  {
   "cell_type": "code",
   "execution_count": 15,
   "metadata": {
    "scrolled": true
   },
   "outputs": [
    {
     "name": "stdout",
     "output_type": "stream",
     "text": [
      "[*********************100%***********************]  15 of 15 completed\n"
     ]
    }
   ],
   "source": [
    "# getting the stock returns\n",
    "df1 = yf.download(list(stock_list),start-pd.offsets.BDay(1),end+pd.offsets.BDay(1))['Adj Close']\n",
    "df = df1.pct_change().dropna()\n",
    "df = df.resample(rule = 'M').apply(lambda x: x.add(1).prod().sub(1))\n",
    "df = df[df.index<=rf.index[-1]]\n",
    "df\n",
    "\n",
    "# monthly $1 values\n",
    "investments = pd.DataFrame()\n",
    "for column in df1:\n",
    "    investments[column] = df1[column]/df1[column].iloc[0]\n",
    "investments = investments.resample('M').last()"
   ]
  },
  {
   "cell_type": "code",
   "execution_count": 16,
   "metadata": {
    "scrolled": false
   },
   "outputs": [],
   "source": [
    "# portfolio optimization on a 60 month rolling basis\n",
    "\n",
    "optimal_weights = pd.DataFrame()\n",
    "\n",
    "for i in range(0, len(df.index)-60+1):\n",
    "    \n",
    "    # Define the negative Sharpe Ratio function that we will minimize\n",
    "    def neg_SR(weights):\n",
    "        # excess return\n",
    "        r = (np.dot(df.iloc[i:i+60],weights) - rf.iloc[i:i+60]['RF']).mean()*12\n",
    "        # excess SD\n",
    "        s = (np.dot(df.iloc[i:i+60],weights) - rf.iloc[i:i+60]['RF']).std()*np.sqrt(12)\n",
    "        return (-1) * (r/s)\n",
    "\n",
    "    # By convention of minimize function it should be a function that returns zero for conditions\n",
    "    constraints = ({'type':'eq','fun': lambda weights: np.sum(weights) - 1})\n",
    "\n",
    "    # Initial Guess (equally weighted)\n",
    "    init_guess = np.full(len(df.columns),1/len(df.columns))\n",
    "    \n",
    "    optimal_port = minimize(neg_SR, init_guess, constraints=constraints)\n",
    "    \n",
    "    optimal_weights = pd.concat([optimal_weights,\n",
    "                                pd.DataFrame(optimal_port.x.reshape(1,len(stock_list)).round(4),\n",
    "                                             columns=[stock_list],\n",
    "                                             index=[df.iloc[i:i+60].index[-1]])],\n",
    "                                axis=0)"
   ]
  },
  {
   "cell_type": "code",
   "execution_count": 17,
   "metadata": {},
   "outputs": [
    {
     "data": {
      "text/html": [
       "<div>\n",
       "<style scoped>\n",
       "    .dataframe tbody tr th:only-of-type {\n",
       "        vertical-align: middle;\n",
       "    }\n",
       "\n",
       "    .dataframe tbody tr th {\n",
       "        vertical-align: top;\n",
       "    }\n",
       "\n",
       "    .dataframe thead tr th {\n",
       "        text-align: left;\n",
       "    }\n",
       "</style>\n",
       "<table border=\"1\" class=\"dataframe\">\n",
       "  <thead>\n",
       "    <tr>\n",
       "      <th></th>\n",
       "      <th>V</th>\n",
       "      <th>JNJ</th>\n",
       "      <th>CAT</th>\n",
       "      <th>CSCO</th>\n",
       "      <th>CVX</th>\n",
       "      <th>C</th>\n",
       "      <th>NKE</th>\n",
       "      <th>TRV</th>\n",
       "      <th>MCD</th>\n",
       "      <th>INTC</th>\n",
       "      <th>DIS</th>\n",
       "      <th>IBM</th>\n",
       "      <th>PFE</th>\n",
       "      <th>GS</th>\n",
       "      <th>MRK</th>\n",
       "    </tr>\n",
       "  </thead>\n",
       "  <tbody>\n",
       "    <tr>\n",
       "      <th>2022-10-31</th>\n",
       "      <td>-0.9402</td>\n",
       "      <td>0.2750</td>\n",
       "      <td>0.2145</td>\n",
       "      <td>0.3473</td>\n",
       "      <td>-0.5433</td>\n",
       "      <td>0.9493</td>\n",
       "      <td>-0.3793</td>\n",
       "      <td>-0.7729</td>\n",
       "      <td>0.0156</td>\n",
       "      <td>0.1283</td>\n",
       "      <td>0.2858</td>\n",
       "      <td>0.1731</td>\n",
       "      <td>0.1675</td>\n",
       "      <td>0.2013</td>\n",
       "      <td>0.8780</td>\n",
       "    </tr>\n",
       "    <tr>\n",
       "      <th>2022-11-30</th>\n",
       "      <td>-0.9395</td>\n",
       "      <td>0.2749</td>\n",
       "      <td>0.1375</td>\n",
       "      <td>0.3106</td>\n",
       "      <td>-0.6282</td>\n",
       "      <td>1.0477</td>\n",
       "      <td>-0.3619</td>\n",
       "      <td>-0.7359</td>\n",
       "      <td>-0.0026</td>\n",
       "      <td>0.0591</td>\n",
       "      <td>0.3471</td>\n",
       "      <td>0.1459</td>\n",
       "      <td>0.1885</td>\n",
       "      <td>0.2160</td>\n",
       "      <td>0.9408</td>\n",
       "    </tr>\n",
       "    <tr>\n",
       "      <th>2022-12-31</th>\n",
       "      <td>-0.8701</td>\n",
       "      <td>0.2103</td>\n",
       "      <td>0.1085</td>\n",
       "      <td>0.3244</td>\n",
       "      <td>-0.7269</td>\n",
       "      <td>0.9525</td>\n",
       "      <td>-0.4094</td>\n",
       "      <td>-0.8050</td>\n",
       "      <td>0.1122</td>\n",
       "      <td>0.0213</td>\n",
       "      <td>0.2772</td>\n",
       "      <td>0.2700</td>\n",
       "      <td>0.2105</td>\n",
       "      <td>0.3245</td>\n",
       "      <td>0.9999</td>\n",
       "    </tr>\n",
       "    <tr>\n",
       "      <th>2023-01-31</th>\n",
       "      <td>-0.7856</td>\n",
       "      <td>0.3705</td>\n",
       "      <td>0.1212</td>\n",
       "      <td>0.1991</td>\n",
       "      <td>-0.5322</td>\n",
       "      <td>0.9208</td>\n",
       "      <td>-0.5610</td>\n",
       "      <td>-0.8488</td>\n",
       "      <td>-0.2097</td>\n",
       "      <td>0.2531</td>\n",
       "      <td>0.4200</td>\n",
       "      <td>0.2480</td>\n",
       "      <td>0.1419</td>\n",
       "      <td>0.1149</td>\n",
       "      <td>1.1478</td>\n",
       "    </tr>\n",
       "    <tr>\n",
       "      <th>2023-02-28</th>\n",
       "      <td>-0.6870</td>\n",
       "      <td>0.3825</td>\n",
       "      <td>-0.0005</td>\n",
       "      <td>0.2298</td>\n",
       "      <td>-0.4503</td>\n",
       "      <td>0.8285</td>\n",
       "      <td>-0.4325</td>\n",
       "      <td>-0.9087</td>\n",
       "      <td>-0.1733</td>\n",
       "      <td>0.4979</td>\n",
       "      <td>0.5466</td>\n",
       "      <td>0.2367</td>\n",
       "      <td>0.0186</td>\n",
       "      <td>0.0610</td>\n",
       "      <td>0.8505</td>\n",
       "    </tr>\n",
       "  </tbody>\n",
       "</table>\n",
       "</div>"
      ],
      "text/plain": [
       "                 V     JNJ     CAT    CSCO     CVX       C     NKE     TRV  \\\n",
       "2022-10-31 -0.9402  0.2750  0.2145  0.3473 -0.5433  0.9493 -0.3793 -0.7729   \n",
       "2022-11-30 -0.9395  0.2749  0.1375  0.3106 -0.6282  1.0477 -0.3619 -0.7359   \n",
       "2022-12-31 -0.8701  0.2103  0.1085  0.3244 -0.7269  0.9525 -0.4094 -0.8050   \n",
       "2023-01-31 -0.7856  0.3705  0.1212  0.1991 -0.5322  0.9208 -0.5610 -0.8488   \n",
       "2023-02-28 -0.6870  0.3825 -0.0005  0.2298 -0.4503  0.8285 -0.4325 -0.9087   \n",
       "\n",
       "               MCD    INTC     DIS     IBM     PFE      GS     MRK  \n",
       "2022-10-31  0.0156  0.1283  0.2858  0.1731  0.1675  0.2013  0.8780  \n",
       "2022-11-30 -0.0026  0.0591  0.3471  0.1459  0.1885  0.2160  0.9408  \n",
       "2022-12-31  0.1122  0.0213  0.2772  0.2700  0.2105  0.3245  0.9999  \n",
       "2023-01-31 -0.2097  0.2531  0.4200  0.2480  0.1419  0.1149  1.1478  \n",
       "2023-02-28 -0.1733  0.4979  0.5466  0.2367  0.0186  0.0610  0.8505  "
      ]
     },
     "execution_count": 17,
     "metadata": {},
     "output_type": "execute_result"
    }
   ],
   "source": [
    "optimal_weights.tail()"
   ]
  },
  {
   "cell_type": "markdown",
   "metadata": {
    "tags": []
   },
   "source": [
    "#### 2. Create a new DataFrame named port_returns to store the monthly returns over the sample period 01/2020 - 02/2023 for the following portfolios:\n",
    " 1) A monthly rebalanced portfolio using the rolling optimal weights. Specifically, the portfolio return for 01/2020 should be based on the weights as of 12/2019 (the same values detailed in Part I and in the first row in the optimal_weights DataFrame), the portfolio return for 02/2020 should be based on the weights as of 01/2020 and so on. Label the portfolio (MRoll_Reb_OP, an acronym for Monthly Rolling Rebalanced Optimal Portfolio). \n",
    " 2) A monthly rebalanced portfolio using the optimal weights as of 12/2019. Label the portfolio (M_Reb_OP, an acronym for Monthly Rebalancing Optimal Portfolio).\n",
    " 3) A monthly rebalanced equally-weighted portfolio. Label the portfolio (M_Reb_EW, an acronym for Monthly Rebalancing Equally-Weighted Portfolio).\n",
    " 4) A buy and hold portfolio, initially allocated according to the optimal weights as of 12/2019. Label the portfolio (BH_OP, an acronym for Buy and Hold Optimal Portfolio).\n",
    " 5) A buy and hold portfolio, initially allocated equally across stocks. Label the portfolio (BH_EW, an acronym for Buy and Hold Equally-Weighted Portfolio)."
   ]
  },
  {
   "cell_type": "code",
   "execution_count": 18,
   "metadata": {
    "scrolled": true
   },
   "outputs": [
    {
     "data": {
      "text/html": [
       "<div>\n",
       "<style scoped>\n",
       "    .dataframe tbody tr th:only-of-type {\n",
       "        vertical-align: middle;\n",
       "    }\n",
       "\n",
       "    .dataframe tbody tr th {\n",
       "        vertical-align: top;\n",
       "    }\n",
       "\n",
       "    .dataframe thead th {\n",
       "        text-align: right;\n",
       "    }\n",
       "</style>\n",
       "<table border=\"1\" class=\"dataframe\">\n",
       "  <thead>\n",
       "    <tr style=\"text-align: right;\">\n",
       "      <th></th>\n",
       "      <th>MRoll_Reb_OP</th>\n",
       "      <th>M_Reb_OP</th>\n",
       "      <th>M_Reb_EW</th>\n",
       "      <th>BH_OP</th>\n",
       "      <th>BH_EW</th>\n",
       "    </tr>\n",
       "  </thead>\n",
       "  <tbody>\n",
       "    <tr>\n",
       "      <th>2020-01-31</th>\n",
       "      <td>0.087069</td>\n",
       "      <td>0.087069</td>\n",
       "      <td>-0.013858</td>\n",
       "      <td>0.062829</td>\n",
       "      <td>-0.010081</td>\n",
       "    </tr>\n",
       "    <tr>\n",
       "      <th>2020-02-29</th>\n",
       "      <td>-0.074547</td>\n",
       "      <td>-0.073458</td>\n",
       "      <td>-0.106120</td>\n",
       "      <td>-0.080436</td>\n",
       "      <td>-0.103570</td>\n",
       "    </tr>\n",
       "    <tr>\n",
       "      <th>2020-03-31</th>\n",
       "      <td>-0.019408</td>\n",
       "      <td>-0.023869</td>\n",
       "      <td>-0.117325</td>\n",
       "      <td>-0.079122</td>\n",
       "      <td>-0.108324</td>\n",
       "    </tr>\n",
       "    <tr>\n",
       "      <th>2020-04-30</th>\n",
       "      <td>-0.009042</td>\n",
       "      <td>0.071582</td>\n",
       "      <td>0.115722</td>\n",
       "      <td>0.095092</td>\n",
       "      <td>0.106652</td>\n",
       "    </tr>\n",
       "    <tr>\n",
       "      <th>2020-05-31</th>\n",
       "      <td>0.100065</td>\n",
       "      <td>0.075924</td>\n",
       "      <td>0.046722</td>\n",
       "      <td>0.062539</td>\n",
       "      <td>0.051604</td>\n",
       "    </tr>\n",
       "    <tr>\n",
       "      <th>2020-06-30</th>\n",
       "      <td>-0.022820</td>\n",
       "      <td>-0.040440</td>\n",
       "      <td>-0.016224</td>\n",
       "      <td>-0.021460</td>\n",
       "      <td>-0.019059</td>\n",
       "    </tr>\n",
       "    <tr>\n",
       "      <th>2020-07-31</th>\n",
       "      <td>-0.020521</td>\n",
       "      <td>0.034640</td>\n",
       "      <td>0.011435</td>\n",
       "      <td>0.015190</td>\n",
       "      <td>0.007654</td>\n",
       "    </tr>\n",
       "    <tr>\n",
       "      <th>2020-08-31</th>\n",
       "      <td>0.170738</td>\n",
       "      <td>0.171204</td>\n",
       "      <td>0.050088</td>\n",
       "      <td>0.132270</td>\n",
       "      <td>0.057988</td>\n",
       "    </tr>\n",
       "    <tr>\n",
       "      <th>2020-09-30</th>\n",
       "      <td>0.114195</td>\n",
       "      <td>0.111451</td>\n",
       "      <td>-0.029253</td>\n",
       "      <td>0.040491</td>\n",
       "      <td>-0.017420</td>\n",
       "    </tr>\n",
       "    <tr>\n",
       "      <th>2020-10-31</th>\n",
       "      <td>-0.078313</td>\n",
       "      <td>-0.110590</td>\n",
       "      <td>-0.043091</td>\n",
       "      <td>-0.070928</td>\n",
       "      <td>-0.047193</td>\n",
       "    </tr>\n",
       "    <tr>\n",
       "      <th>2020-11-30</th>\n",
       "      <td>-0.008063</td>\n",
       "      <td>0.029456</td>\n",
       "      <td>0.148792</td>\n",
       "      <td>0.079755</td>\n",
       "      <td>0.132287</td>\n",
       "    </tr>\n",
       "    <tr>\n",
       "      <th>2020-12-31</th>\n",
       "      <td>-0.002194</td>\n",
       "      <td>0.002080</td>\n",
       "      <td>0.056230</td>\n",
       "      <td>0.013701</td>\n",
       "      <td>0.052614</td>\n",
       "    </tr>\n",
       "    <tr>\n",
       "      <th>2021-01-31</th>\n",
       "      <td>-0.057953</td>\n",
       "      <td>-0.059240</td>\n",
       "      <td>-0.018639</td>\n",
       "      <td>-0.061437</td>\n",
       "      <td>-0.026722</td>\n",
       "    </tr>\n",
       "    <tr>\n",
       "      <th>2021-02-28</th>\n",
       "      <td>0.083243</td>\n",
       "      <td>-0.004643</td>\n",
       "      <td>0.063928</td>\n",
       "      <td>0.032086</td>\n",
       "      <td>0.061171</td>\n",
       "    </tr>\n",
       "    <tr>\n",
       "      <th>2021-03-31</th>\n",
       "      <td>0.012081</td>\n",
       "      <td>0.027722</td>\n",
       "      <td>0.057014</td>\n",
       "      <td>0.031130</td>\n",
       "      <td>0.049315</td>\n",
       "    </tr>\n",
       "    <tr>\n",
       "      <th>2021-04-30</th>\n",
       "      <td>0.047757</td>\n",
       "      <td>0.057720</td>\n",
       "      <td>0.012852</td>\n",
       "      <td>0.052406</td>\n",
       "      <td>0.015121</td>\n",
       "    </tr>\n",
       "    <tr>\n",
       "      <th>2021-05-31</th>\n",
       "      <td>0.014294</td>\n",
       "      <td>-0.018673</td>\n",
       "      <td>0.025783</td>\n",
       "      <td>-0.006760</td>\n",
       "      <td>0.022232</td>\n",
       "    </tr>\n",
       "    <tr>\n",
       "      <th>2021-06-30</th>\n",
       "      <td>0.007405</td>\n",
       "      <td>0.075356</td>\n",
       "      <td>-0.001457</td>\n",
       "      <td>0.044515</td>\n",
       "      <td>0.000274</td>\n",
       "    </tr>\n",
       "    <tr>\n",
       "      <th>2021-07-31</th>\n",
       "      <td>0.108346</td>\n",
       "      <td>0.083588</td>\n",
       "      <td>0.011334</td>\n",
       "      <td>0.060185</td>\n",
       "      <td>0.019279</td>\n",
       "    </tr>\n",
       "    <tr>\n",
       "      <th>2021-08-31</th>\n",
       "      <td>0.003325</td>\n",
       "      <td>-0.048209</td>\n",
       "      <td>0.021552</td>\n",
       "      <td>-0.036442</td>\n",
       "      <td>0.014636</td>\n",
       "    </tr>\n",
       "    <tr>\n",
       "      <th>2021-09-30</th>\n",
       "      <td>-0.125668</td>\n",
       "      <td>-0.051779</td>\n",
       "      <td>-0.042280</td>\n",
       "      <td>-0.041494</td>\n",
       "      <td>-0.049788</td>\n",
       "    </tr>\n",
       "    <tr>\n",
       "      <th>2021-10-31</th>\n",
       "      <td>0.134952</td>\n",
       "      <td>0.034566</td>\n",
       "      <td>0.034340</td>\n",
       "      <td>0.030954</td>\n",
       "      <td>0.036838</td>\n",
       "    </tr>\n",
       "    <tr>\n",
       "      <th>2021-11-30</th>\n",
       "      <td>0.026395</td>\n",
       "      <td>-0.008390</td>\n",
       "      <td>-0.031685</td>\n",
       "      <td>-0.018908</td>\n",
       "      <td>-0.032425</td>\n",
       "    </tr>\n",
       "    <tr>\n",
       "      <th>2021-12-31</th>\n",
       "      <td>0.036373</td>\n",
       "      <td>0.076962</td>\n",
       "      <td>0.065300</td>\n",
       "      <td>0.070990</td>\n",
       "      <td>0.065959</td>\n",
       "    </tr>\n",
       "    <tr>\n",
       "      <th>2022-01-31</th>\n",
       "      <td>-0.146773</td>\n",
       "      <td>-0.101792</td>\n",
       "      <td>-0.014009</td>\n",
       "      <td>-0.053677</td>\n",
       "      <td>-0.026726</td>\n",
       "    </tr>\n",
       "    <tr>\n",
       "      <th>2022-02-28</th>\n",
       "      <td>-0.105950</td>\n",
       "      <td>-0.123407</td>\n",
       "      <td>-0.031695</td>\n",
       "      <td>-0.083606</td>\n",
       "      <td>-0.036873</td>\n",
       "    </tr>\n",
       "    <tr>\n",
       "      <th>2022-03-31</th>\n",
       "      <td>0.094367</td>\n",
       "      <td>0.006348</td>\n",
       "      <td>0.038066</td>\n",
       "      <td>0.011924</td>\n",
       "      <td>0.039262</td>\n",
       "    </tr>\n",
       "    <tr>\n",
       "      <th>2022-04-30</th>\n",
       "      <td>-0.049587</td>\n",
       "      <td>-0.007806</td>\n",
       "      <td>-0.051845</td>\n",
       "      <td>-0.017414</td>\n",
       "      <td>-0.049286</td>\n",
       "    </tr>\n",
       "    <tr>\n",
       "      <th>2022-05-31</th>\n",
       "      <td>-0.037480</td>\n",
       "      <td>-0.043584</td>\n",
       "      <td>0.031376</td>\n",
       "      <td>-0.017862</td>\n",
       "      <td>0.023711</td>\n",
       "    </tr>\n",
       "    <tr>\n",
       "      <th>2022-06-30</th>\n",
       "      <td>-0.090434</td>\n",
       "      <td>-0.052582</td>\n",
       "      <td>-0.080848</td>\n",
       "      <td>-0.054062</td>\n",
       "      <td>-0.078894</td>\n",
       "    </tr>\n",
       "    <tr>\n",
       "      <th>2022-07-31</th>\n",
       "      <td>0.065898</td>\n",
       "      <td>0.100840</td>\n",
       "      <td>0.049692</td>\n",
       "      <td>0.090169</td>\n",
       "      <td>0.050587</td>\n",
       "    </tr>\n",
       "    <tr>\n",
       "      <th>2022-08-31</th>\n",
       "      <td>-0.084870</td>\n",
       "      <td>-0.094072</td>\n",
       "      <td>-0.039739</td>\n",
       "      <td>-0.069144</td>\n",
       "      <td>-0.043889</td>\n",
       "    </tr>\n",
       "    <tr>\n",
       "      <th>2022-09-30</th>\n",
       "      <td>-0.049390</td>\n",
       "      <td>-0.142079</td>\n",
       "      <td>-0.097185</td>\n",
       "      <td>-0.121975</td>\n",
       "      <td>-0.094186</td>\n",
       "    </tr>\n",
       "    <tr>\n",
       "      <th>2022-10-31</th>\n",
       "      <td>0.329437</td>\n",
       "      <td>0.150016</td>\n",
       "      <td>0.158462</td>\n",
       "      <td>0.163136</td>\n",
       "      <td>0.165840</td>\n",
       "    </tr>\n",
       "    <tr>\n",
       "      <th>2022-11-30</th>\n",
       "      <td>0.187755</td>\n",
       "      <td>0.100907</td>\n",
       "      <td>0.063766</td>\n",
       "      <td>0.069881</td>\n",
       "      <td>0.064201</td>\n",
       "    </tr>\n",
       "    <tr>\n",
       "      <th>2022-12-31</th>\n",
       "      <td>0.091896</td>\n",
       "      <td>-0.012939</td>\n",
       "      <td>-0.033200</td>\n",
       "      <td>-0.017977</td>\n",
       "      <td>-0.023714</td>\n",
       "    </tr>\n",
       "    <tr>\n",
       "      <th>2023-01-31</th>\n",
       "      <td>-0.191528</td>\n",
       "      <td>0.075238</td>\n",
       "      <td>0.036322</td>\n",
       "      <td>0.066555</td>\n",
       "      <td>0.026795</td>\n",
       "    </tr>\n",
       "    <tr>\n",
       "      <th>2023-02-28</th>\n",
       "      <td>0.021793</td>\n",
       "      <td>-0.034652</td>\n",
       "      <td>-0.046378</td>\n",
       "      <td>-0.029562</td>\n",
       "      <td>-0.042671</td>\n",
       "    </tr>\n",
       "  </tbody>\n",
       "</table>\n",
       "</div>"
      ],
      "text/plain": [
       "            MRoll_Reb_OP  M_Reb_OP  M_Reb_EW     BH_OP     BH_EW\n",
       "2020-01-31      0.087069  0.087069 -0.013858  0.062829 -0.010081\n",
       "2020-02-29     -0.074547 -0.073458 -0.106120 -0.080436 -0.103570\n",
       "2020-03-31     -0.019408 -0.023869 -0.117325 -0.079122 -0.108324\n",
       "2020-04-30     -0.009042  0.071582  0.115722  0.095092  0.106652\n",
       "2020-05-31      0.100065  0.075924  0.046722  0.062539  0.051604\n",
       "2020-06-30     -0.022820 -0.040440 -0.016224 -0.021460 -0.019059\n",
       "2020-07-31     -0.020521  0.034640  0.011435  0.015190  0.007654\n",
       "2020-08-31      0.170738  0.171204  0.050088  0.132270  0.057988\n",
       "2020-09-30      0.114195  0.111451 -0.029253  0.040491 -0.017420\n",
       "2020-10-31     -0.078313 -0.110590 -0.043091 -0.070928 -0.047193\n",
       "2020-11-30     -0.008063  0.029456  0.148792  0.079755  0.132287\n",
       "2020-12-31     -0.002194  0.002080  0.056230  0.013701  0.052614\n",
       "2021-01-31     -0.057953 -0.059240 -0.018639 -0.061437 -0.026722\n",
       "2021-02-28      0.083243 -0.004643  0.063928  0.032086  0.061171\n",
       "2021-03-31      0.012081  0.027722  0.057014  0.031130  0.049315\n",
       "2021-04-30      0.047757  0.057720  0.012852  0.052406  0.015121\n",
       "2021-05-31      0.014294 -0.018673  0.025783 -0.006760  0.022232\n",
       "2021-06-30      0.007405  0.075356 -0.001457  0.044515  0.000274\n",
       "2021-07-31      0.108346  0.083588  0.011334  0.060185  0.019279\n",
       "2021-08-31      0.003325 -0.048209  0.021552 -0.036442  0.014636\n",
       "2021-09-30     -0.125668 -0.051779 -0.042280 -0.041494 -0.049788\n",
       "2021-10-31      0.134952  0.034566  0.034340  0.030954  0.036838\n",
       "2021-11-30      0.026395 -0.008390 -0.031685 -0.018908 -0.032425\n",
       "2021-12-31      0.036373  0.076962  0.065300  0.070990  0.065959\n",
       "2022-01-31     -0.146773 -0.101792 -0.014009 -0.053677 -0.026726\n",
       "2022-02-28     -0.105950 -0.123407 -0.031695 -0.083606 -0.036873\n",
       "2022-03-31      0.094367  0.006348  0.038066  0.011924  0.039262\n",
       "2022-04-30     -0.049587 -0.007806 -0.051845 -0.017414 -0.049286\n",
       "2022-05-31     -0.037480 -0.043584  0.031376 -0.017862  0.023711\n",
       "2022-06-30     -0.090434 -0.052582 -0.080848 -0.054062 -0.078894\n",
       "2022-07-31      0.065898  0.100840  0.049692  0.090169  0.050587\n",
       "2022-08-31     -0.084870 -0.094072 -0.039739 -0.069144 -0.043889\n",
       "2022-09-30     -0.049390 -0.142079 -0.097185 -0.121975 -0.094186\n",
       "2022-10-31      0.329437  0.150016  0.158462  0.163136  0.165840\n",
       "2022-11-30      0.187755  0.100907  0.063766  0.069881  0.064201\n",
       "2022-12-31      0.091896 -0.012939 -0.033200 -0.017977 -0.023714\n",
       "2023-01-31     -0.191528  0.075238  0.036322  0.066555  0.026795\n",
       "2023-02-28      0.021793 -0.034652 -0.046378 -0.029562 -0.042671"
      ]
     },
     "execution_count": 18,
     "metadata": {},
     "output_type": "execute_result"
    }
   ],
   "source": [
    "port_returns = pd.DataFrame()\n",
    "eq_weights = [1/len(stock_list)]*len(stock_list)\n",
    "\n",
    "#1\n",
    "for i in range(0,len(optimal_weights)-1):\n",
    "    port_returns = pd.concat([port_returns,\n",
    "                              pd.DataFrame({'MRoll_Reb_OP':np.dot(optimal_weights.iloc[i],df.iloc[i+60])},\n",
    "                                           index = [df.index[i+60]])],\n",
    "                                           axis=0)\n",
    "    \n",
    "#2-5\n",
    "port_returns['M_Reb_OP'] = np.dot(df.iloc[60:], optimal_weights.iloc[0])\n",
    "port_returns['M_Reb_EW'] = np.dot(df.iloc[60:], eq_weights)\n",
    "t1 = np.dot(investments.iloc[60:-1], optimal_weights.iloc[0])\n",
    "t2 = np.dot(investments.iloc[60:-1], eq_weights)\n",
    "port_returns['BH_OP'] = pd.DataFrame(t1).pct_change().dropna()[0].values.tolist()\n",
    "port_returns['BH_EW'] = pd.DataFrame(t2).pct_change().dropna()[0].values.tolist()\n",
    "\n",
    "port_returns"
   ]
  },
  {
   "cell_type": "markdown",
   "metadata": {},
   "source": [
    "#### 3. Create a DataFrame port_stats (with a 3x5 shape) to store the annualized average monthly return, the annualized monthly standard deviation and the Sharpe ratio for all 5 portfolios."
   ]
  },
  {
   "cell_type": "code",
   "execution_count": 19,
   "metadata": {},
   "outputs": [
    {
     "data": {
      "text/html": [
       "<div>\n",
       "<style scoped>\n",
       "    .dataframe tbody tr th:only-of-type {\n",
       "        vertical-align: middle;\n",
       "    }\n",
       "\n",
       "    .dataframe tbody tr th {\n",
       "        vertical-align: top;\n",
       "    }\n",
       "\n",
       "    .dataframe thead th {\n",
       "        text-align: right;\n",
       "    }\n",
       "</style>\n",
       "<table border=\"1\" class=\"dataframe\">\n",
       "  <thead>\n",
       "    <tr style=\"text-align: right;\">\n",
       "      <th></th>\n",
       "      <th>MRoll_Reb_OP</th>\n",
       "      <th>M_Reb_OP</th>\n",
       "      <th>M_Reb_EW</th>\n",
       "      <th>BH_OP</th>\n",
       "      <th>BH_EW</th>\n",
       "    </tr>\n",
       "  </thead>\n",
       "  <tbody>\n",
       "    <tr>\n",
       "      <th>Annualized Average Monthly Return</th>\n",
       "      <td>0.177741</td>\n",
       "      <td>0.101200</td>\n",
       "      <td>0.089667</td>\n",
       "      <td>0.108483</td>\n",
       "      <td>0.079957</td>\n",
       "    </tr>\n",
       "    <tr>\n",
       "      <th>Annualized Monthly Standard Deviation</th>\n",
       "      <td>0.352186</td>\n",
       "      <td>0.268037</td>\n",
       "      <td>0.218372</td>\n",
       "      <td>0.227781</td>\n",
       "      <td>0.212967</td>\n",
       "    </tr>\n",
       "    <tr>\n",
       "      <th>Sharpe Ratio</th>\n",
       "      <td>0.481911</td>\n",
       "      <td>0.347218</td>\n",
       "      <td>0.372307</td>\n",
       "      <td>0.440283</td>\n",
       "      <td>0.336386</td>\n",
       "    </tr>\n",
       "  </tbody>\n",
       "</table>\n",
       "</div>"
      ],
      "text/plain": [
       "                                       MRoll_Reb_OP  M_Reb_OP  M_Reb_EW  \\\n",
       "Annualized Average Monthly Return          0.177741  0.101200  0.089667   \n",
       "Annualized Monthly Standard Deviation      0.352186  0.268037  0.218372   \n",
       "Sharpe Ratio                               0.481911  0.347218  0.372307   \n",
       "\n",
       "                                          BH_OP     BH_EW  \n",
       "Annualized Average Monthly Return      0.108483  0.079957  \n",
       "Annualized Monthly Standard Deviation  0.227781  0.212967  \n",
       "Sharpe Ratio                           0.440283  0.336386  "
      ]
     },
     "execution_count": 19,
     "metadata": {},
     "output_type": "execute_result"
    }
   ],
   "source": [
    "# excess port_ret\n",
    "ex_pr = pd.DataFrame()\n",
    "for c in port_returns.columns:\n",
    "    ex_pr[c] = port_returns[c] - rf[60:].RF\n",
    "\n",
    "lst = [port_returns.mean()*12, \n",
    "       port_returns.std()*np.sqrt(12), \n",
    "       (ex_pr.mean()*12)/(ex_pr.std()*np.sqrt(12))]\n",
    "\n",
    "port_stats = pd.DataFrame(lst, index=['Annualized Average Monthly Return',\n",
    "                         'Annualized Monthly Standard Deviation', \n",
    "                         'Sharpe Ratio'])\n",
    "\n",
    "port_stats"
   ]
  },
  {
   "cell_type": "markdown",
   "metadata": {},
   "source": [
    "#### 4. Compute the cumulative return series for all portfolios and plot them in the same graph. "
   ]
  },
  {
   "cell_type": "code",
   "execution_count": 20,
   "metadata": {
    "scrolled": false
   },
   "outputs": [
    {
     "data": {
      "image/png": "[encoded data removed]",
      "text/plain": [
       "<Figure size 1000x600 with 1 Axes>"
      ]
     },
     "metadata": {},
     "output_type": "display_data"
    }
   ],
   "source": [
    "cum_df = pd.DataFrame()\n",
    "for c in port_returns.columns:\n",
    "    cum_df[c] = port_returns[c].add(1).cumprod()-1\n",
    "    \n",
    "cum_df.plot.line(y = cum_df.columns, \n",
    "                     figsize = (10,6), grid = True, title = 'Cumulative Returns');"
   ]
  },
  {
   "cell_type": "markdown",
   "metadata": {},
   "source": [
    "#### 5. What was the cumulative return for the best performing portfolio? What was the cumulative return for the worst performing portfolio?"
   ]
  },
  {
   "cell_type": "code",
   "execution_count": 21,
   "metadata": {},
   "outputs": [
    {
     "name": "stdout",
     "output_type": "stream",
     "text": [
      "cumulative return for the best performing portfolio 0.45838712522399905\n",
      "cumulative return for the worst performing portfolio 0.20181730003407417\n"
     ]
    }
   ],
   "source": [
    "cum_ret = cum_df.iloc[-1,:]\n",
    "print('cumulative return for the best performing portfolio', cum_ret.max())\n",
    "print('cumulative return for the worst performing portfolio', cum_ret.min())"
   ]
  },
  {
   "cell_type": "markdown",
   "metadata": {},
   "source": [
    "### PART III - Examination of the Size Effect"
   ]
  },
  {
   "cell_type": "markdown",
   "metadata": {},
   "source": [
    "Please download the file \"crsp_fall22.csv\" located in folder Group_Assignment. The file contains the following columns:\n",
    "* PERMNO - Permanent number (unique identifer for the stock)\n",
    "* DATE\n",
    "* PRC - The closing price\n",
    "* VOL - Trading volume (in hundreds)\n",
    "* RET - The simple return\n",
    "* SHROUT - The number of shares outstanding (in thousands)\n",
    "* CFACPR - Cumulative factor to adjust the closing price\n",
    "* CFACSHR - Cumulative factor to adjust shares outstanding"
   ]
  },
  {
   "cell_type": "markdown",
   "metadata": {
    "tags": []
   },
   "source": [
    "#### 1. Create a DataFrame named fin_data by reading in the columns DATE, PERMNO, RET, PRC and SHROUT from the file 'crsp_fall22.csv'. Set the DATE as the index. In addition, change each index value to the end of the month. For example, change '1926-05-30' to 1926-05-31', or '1987-01-30' to '1987-01-31'. In addition, create a new column (labeled MKTCAP) to store the market capitalization (defined as PRC * SHROUT). Subsequently, permanently remove the PRC and SHROUT columns."
   ]
  },
  {
   "cell_type": "code",
   "execution_count": 22,
   "metadata": {},
   "outputs": [],
   "source": [
    "fin_data = pd.read_csv('crsp_fall22.csv', dtype={'PERMNO':np.int64},\n",
    "                       usecols=['DATE', 'PERMNO', 'RET', 'PRC', 'SHROUT'])\n",
    "\n",
    "# convert date col and make the end of the month the index\n",
    "fin_data['DATE'] = pd.to_datetime(fin_data['DATE'], format='%Y-%m-%d')\n",
    "fin_data.set_index('DATE', inplace=True)\n",
    "fin_data.index = fin_data.index + pd.offsets.MonthEnd(0)\n",
    "\n",
    "# create the MKTCAP column\n",
    "fin_data['MKTCAP'] = fin_data['PRC'] * fin_data['SHROUT']\n",
    "\n",
    "# drop cols\n",
    "fin_data.drop(columns=['PRC', 'SHROUT'], inplace=True)"
   ]
  },
  {
   "cell_type": "code",
   "execution_count": 23,
   "metadata": {},
   "outputs": [
    {
     "data": {
      "text/html": [
       "<div>\n",
       "<style scoped>\n",
       "    .dataframe tbody tr th:only-of-type {\n",
       "        vertical-align: middle;\n",
       "    }\n",
       "\n",
       "    .dataframe tbody tr th {\n",
       "        vertical-align: top;\n",
       "    }\n",
       "\n",
       "    .dataframe thead th {\n",
       "        text-align: right;\n",
       "    }\n",
       "</style>\n",
       "<table border=\"1\" class=\"dataframe\">\n",
       "  <thead>\n",
       "    <tr style=\"text-align: right;\">\n",
       "      <th></th>\n",
       "      <th>PERMNO</th>\n",
       "      <th>RET</th>\n",
       "      <th>MKTCAP</th>\n",
       "    </tr>\n",
       "    <tr>\n",
       "      <th>DATE</th>\n",
       "      <th></th>\n",
       "      <th></th>\n",
       "      <th></th>\n",
       "    </tr>\n",
       "  </thead>\n",
       "  <tbody>\n",
       "    <tr>\n",
       "      <th>1990-01-31</th>\n",
       "      <td>21573</td>\n",
       "      <td>-0.106195</td>\n",
       "      <td>5.499450e+06</td>\n",
       "    </tr>\n",
       "    <tr>\n",
       "      <th>1990-01-31</th>\n",
       "      <td>55160</td>\n",
       "      <td>-0.190476</td>\n",
       "      <td>2.067094e+03</td>\n",
       "    </tr>\n",
       "    <tr>\n",
       "      <th>1990-01-31</th>\n",
       "      <td>45129</td>\n",
       "      <td>-0.086420</td>\n",
       "      <td>1.892550e+05</td>\n",
       "    </tr>\n",
       "    <tr>\n",
       "      <th>1990-01-31</th>\n",
       "      <td>22250</td>\n",
       "      <td>-0.174684</td>\n",
       "      <td>3.117920e+05</td>\n",
       "    </tr>\n",
       "    <tr>\n",
       "      <th>1990-01-31</th>\n",
       "      <td>60468</td>\n",
       "      <td>-0.071429</td>\n",
       "      <td>2.227225e+04</td>\n",
       "    </tr>\n",
       "    <tr>\n",
       "      <th>...</th>\n",
       "      <td>...</td>\n",
       "      <td>...</td>\n",
       "      <td>...</td>\n",
       "    </tr>\n",
       "    <tr>\n",
       "      <th>2022-03-31</th>\n",
       "      <td>16400</td>\n",
       "      <td>-0.070234</td>\n",
       "      <td>2.676084e+05</td>\n",
       "    </tr>\n",
       "    <tr>\n",
       "      <th>2022-03-31</th>\n",
       "      <td>16401</td>\n",
       "      <td>0.424749</td>\n",
       "      <td>9.943693e+04</td>\n",
       "    </tr>\n",
       "    <tr>\n",
       "      <th>2022-03-31</th>\n",
       "      <td>90664</td>\n",
       "      <td>0.236017</td>\n",
       "      <td>4.965897e+07</td>\n",
       "    </tr>\n",
       "    <tr>\n",
       "      <th>2022-03-31</th>\n",
       "      <td>90637</td>\n",
       "      <td>0.147917</td>\n",
       "      <td>1.278777e+05</td>\n",
       "    </tr>\n",
       "    <tr>\n",
       "      <th>2022-03-31</th>\n",
       "      <td>93436</td>\n",
       "      <td>0.238009</td>\n",
       "      <td>1.113736e+09</td>\n",
       "    </tr>\n",
       "  </tbody>\n",
       "</table>\n",
       "<p>1929417 rows × 3 columns</p>\n",
       "</div>"
      ],
      "text/plain": [
       "            PERMNO       RET        MKTCAP\n",
       "DATE                                      \n",
       "1990-01-31   21573 -0.106195  5.499450e+06\n",
       "1990-01-31   55160 -0.190476  2.067094e+03\n",
       "1990-01-31   45129 -0.086420  1.892550e+05\n",
       "1990-01-31   22250 -0.174684  3.117920e+05\n",
       "1990-01-31   60468 -0.071429  2.227225e+04\n",
       "...            ...       ...           ...\n",
       "2022-03-31   16400 -0.070234  2.676084e+05\n",
       "2022-03-31   16401  0.424749  9.943693e+04\n",
       "2022-03-31   90664  0.236017  4.965897e+07\n",
       "2022-03-31   90637  0.147917  1.278777e+05\n",
       "2022-03-31   93436  0.238009  1.113736e+09\n",
       "\n",
       "[1929417 rows x 3 columns]"
      ]
     },
     "execution_count": 23,
     "metadata": {},
     "output_type": "execute_result"
    }
   ],
   "source": [
    "fin_data"
   ]
  },
  {
   "cell_type": "markdown",
   "metadata": {},
   "source": [
    "#### 2. How many stocks are there in the sample? How many of these stocks are in the sample over the entire sample period?"
   ]
  },
  {
   "cell_type": "code",
   "execution_count": 24,
   "metadata": {},
   "outputs": [
    {
     "name": "stdout",
     "output_type": "stream",
     "text": [
      "The number of stocks in the sample is: 18153\n",
      "The number of stocks in the sample over the entire sample period is: 697\n"
     ]
    }
   ],
   "source": [
    "num_stocks = fin_data['PERMNO'].nunique()\n",
    "print(f\"The number of stocks in the sample is: {num_stocks}\")\n",
    "\n",
    "num_entire_stocks = fin_data.groupby('PERMNO').size().value_counts().loc[fin_data.index.nunique()]\n",
    "print(f\"The number of stocks in the sample over the entire sample period is: {num_entire_stocks}\")"
   ]
  },
  {
   "cell_type": "markdown",
   "metadata": {
    "tags": []
   },
   "source": [
    "#### 3. Every June, split the stocks into quintiles (five groups) based on their market capitalization. The header of a DataFrame named size_qt with the resulting split can be found below. "
   ]
  },
  {
   "cell_type": "code",
   "execution_count": 25,
   "metadata": {
    "scrolled": true
   },
   "outputs": [],
   "source": [
    "split_qt = fin_data.copy()\n",
    "# splitting into quintiles based off market cap\n",
    "\n",
    "split_qt['MKTCAP_QT'] = split_qt.groupby(pd.Grouper(freq='A-JUN'))['MKTCAP'].apply(lambda x: pd.qcut(x, 5, labels=False) + 1)\n",
    "\n",
    "size_qt = split_qt.reset_index()[['PERMNO', 'MKTCAP_QT', 'DATE']]\n",
    "\n",
    "# filter for only june\n",
    "size_qt = size_qt[size_qt['DATE'].dt.month == 6]\n",
    "size_qt = size_qt.set_index('DATE').sort_index()\n",
    "\n",
    "# offsetting to hit july\n",
    "size_qt.index = size_qt.index + pd.offsets.MonthEnd()"
   ]
  },
  {
   "cell_type": "code",
   "execution_count": 26,
   "metadata": {
    "scrolled": true,
    "tags": []
   },
   "outputs": [
    {
     "data": {
      "text/html": [
       "<div>\n",
       "<style scoped>\n",
       "    .dataframe tbody tr th:only-of-type {\n",
       "        vertical-align: middle;\n",
       "    }\n",
       "\n",
       "    .dataframe tbody tr th {\n",
       "        vertical-align: top;\n",
       "    }\n",
       "\n",
       "    .dataframe thead th {\n",
       "        text-align: right;\n",
       "    }\n",
       "</style>\n",
       "<table border=\"1\" class=\"dataframe\">\n",
       "  <thead>\n",
       "    <tr style=\"text-align: right;\">\n",
       "      <th></th>\n",
       "      <th>PERMNO</th>\n",
       "      <th>MKTCAP_QT</th>\n",
       "    </tr>\n",
       "    <tr>\n",
       "      <th>DATE</th>\n",
       "      <th></th>\n",
       "      <th></th>\n",
       "    </tr>\n",
       "  </thead>\n",
       "  <tbody>\n",
       "    <tr>\n",
       "      <th>1990-07-31</th>\n",
       "      <td>10294</td>\n",
       "      <td>3</td>\n",
       "    </tr>\n",
       "    <tr>\n",
       "      <th>1990-07-31</th>\n",
       "      <td>65496</td>\n",
       "      <td>3</td>\n",
       "    </tr>\n",
       "    <tr>\n",
       "      <th>1990-07-31</th>\n",
       "      <td>10905</td>\n",
       "      <td>2</td>\n",
       "    </tr>\n",
       "    <tr>\n",
       "      <th>1990-07-31</th>\n",
       "      <td>32037</td>\n",
       "      <td>1</td>\n",
       "    </tr>\n",
       "    <tr>\n",
       "      <th>1990-07-31</th>\n",
       "      <td>66288</td>\n",
       "      <td>5</td>\n",
       "    </tr>\n",
       "  </tbody>\n",
       "</table>\n",
       "</div>"
      ],
      "text/plain": [
       "            PERMNO  MKTCAP_QT\n",
       "DATE                         \n",
       "1990-07-31   10294          3\n",
       "1990-07-31   65496          3\n",
       "1990-07-31   10905          2\n",
       "1990-07-31   32037          1\n",
       "1990-07-31   66288          5"
      ]
     },
     "execution_count": 26,
     "metadata": {},
     "output_type": "execute_result"
    }
   ],
   "source": [
    "size_qt.sort_index().head()"
   ]
  },
  {
   "cell_type": "markdown",
   "metadata": {
    "tags": []
   },
   "source": [
    "#### 4. Create a new DataFrame named data by using the merge_asof() function to merge the DataFrames fin_data and size_qt. Specifically, merge each stock's June quintile allocation with the stock's monthly returns for the next 12 months starting the following July. Subsequently, set DATE as the index in the DataFrame."
   ]
  },
  {
   "cell_type": "code",
   "execution_count": 27,
   "metadata": {},
   "outputs": [],
   "source": [
    "data = pd.merge_asof(fin_data, size_qt, \n",
    "                            on='DATE',\n",
    "                            by='PERMNO', direction='backward')\n",
    "\n",
    "data.set_index('DATE', inplace=True)\n",
    "\n",
    "# dropping first 6 months\n",
    "data.dropna(inplace=True)"
   ]
  },
  {
   "cell_type": "markdown",
   "metadata": {},
   "source": [
    "#### 5. Create a new DataFrame called quintiles to store the average monthly return for each quintile. The header of the DataFrame can be found below:"
   ]
  },
  {
   "cell_type": "code",
   "execution_count": 28,
   "metadata": {},
   "outputs": [],
   "source": [
    "# taking the mean and unstacking the quantiles\n",
    "quintiles = data.groupby(['DATE', 'MKTCAP_QT'])['RET'].mean().unstack()\n",
    "quintiles.columns = ['Q1_RET', 'Q2_RET', 'Q3_RET', 'Q4_RET', 'Q5_RET']"
   ]
  },
  {
   "cell_type": "code",
   "execution_count": 29,
   "metadata": {
    "scrolled": true
   },
   "outputs": [
    {
     "data": {
      "text/html": [
       "<div>\n",
       "<style scoped>\n",
       "    .dataframe tbody tr th:only-of-type {\n",
       "        vertical-align: middle;\n",
       "    }\n",
       "\n",
       "    .dataframe tbody tr th {\n",
       "        vertical-align: top;\n",
       "    }\n",
       "\n",
       "    .dataframe thead th {\n",
       "        text-align: right;\n",
       "    }\n",
       "</style>\n",
       "<table border=\"1\" class=\"dataframe\">\n",
       "  <thead>\n",
       "    <tr style=\"text-align: right;\">\n",
       "      <th></th>\n",
       "      <th>Q1_RET</th>\n",
       "      <th>Q2_RET</th>\n",
       "      <th>Q3_RET</th>\n",
       "      <th>Q4_RET</th>\n",
       "      <th>Q5_RET</th>\n",
       "    </tr>\n",
       "    <tr>\n",
       "      <th>DATE</th>\n",
       "      <th></th>\n",
       "      <th></th>\n",
       "      <th></th>\n",
       "      <th></th>\n",
       "      <th></th>\n",
       "    </tr>\n",
       "  </thead>\n",
       "  <tbody>\n",
       "    <tr>\n",
       "      <th>1990-07-31</th>\n",
       "      <td>-0.001239</td>\n",
       "      <td>-0.043007</td>\n",
       "      <td>-0.041412</td>\n",
       "      <td>-0.041637</td>\n",
       "      <td>-0.028809</td>\n",
       "    </tr>\n",
       "    <tr>\n",
       "      <th>1990-08-31</th>\n",
       "      <td>-0.087260</td>\n",
       "      <td>-0.111380</td>\n",
       "      <td>-0.133862</td>\n",
       "      <td>-0.134542</td>\n",
       "      <td>-0.111322</td>\n",
       "    </tr>\n",
       "    <tr>\n",
       "      <th>1990-09-30</th>\n",
       "      <td>-0.044903</td>\n",
       "      <td>-0.091021</td>\n",
       "      <td>-0.092244</td>\n",
       "      <td>-0.098746</td>\n",
       "      <td>-0.081242</td>\n",
       "    </tr>\n",
       "    <tr>\n",
       "      <th>1990-10-31</th>\n",
       "      <td>-0.069386</td>\n",
       "      <td>-0.064657</td>\n",
       "      <td>-0.071607</td>\n",
       "      <td>-0.060954</td>\n",
       "      <td>-0.039792</td>\n",
       "    </tr>\n",
       "    <tr>\n",
       "      <th>1990-11-30</th>\n",
       "      <td>-0.011271</td>\n",
       "      <td>0.002051</td>\n",
       "      <td>0.027951</td>\n",
       "      <td>0.069232</td>\n",
       "      <td>0.100039</td>\n",
       "    </tr>\n",
       "  </tbody>\n",
       "</table>\n",
       "</div>"
      ],
      "text/plain": [
       "              Q1_RET    Q2_RET    Q3_RET    Q4_RET    Q5_RET\n",
       "DATE                                                        \n",
       "1990-07-31 -0.001239 -0.043007 -0.041412 -0.041637 -0.028809\n",
       "1990-08-31 -0.087260 -0.111380 -0.133862 -0.134542 -0.111322\n",
       "1990-09-30 -0.044903 -0.091021 -0.092244 -0.098746 -0.081242\n",
       "1990-10-31 -0.069386 -0.064657 -0.071607 -0.060954 -0.039792\n",
       "1990-11-30 -0.011271  0.002051  0.027951  0.069232  0.100039"
      ]
     },
     "execution_count": 29,
     "metadata": {},
     "output_type": "execute_result"
    }
   ],
   "source": [
    "quintiles.head()"
   ]
  },
  {
   "cell_type": "markdown",
   "metadata": {},
   "source": [
    "#### 6. Create a bar plot of the average monthly return for all five market capitalization groups, across the entire sample."
   ]
  },
  {
   "cell_type": "code",
   "execution_count": 30,
   "metadata": {},
   "outputs": [
    {
     "data": {
      "image/png": "[encoded data removed]",
      "text/plain": [
       "<Figure size 640x480 with 1 Axes>"
      ]
     },
     "metadata": {},
     "output_type": "display_data"
    }
   ],
   "source": [
    "quintiles.mean().plot(kind='bar')\n",
    "\n",
    "# plotting basics\n",
    "plt.title('Average Monthly Return by Market Capitalization Group')\n",
    "plt.xlabel('Market Capitalization Quintile')\n",
    "plt.ylabel('Average Monthly Return')\n",
    "plt.show()"
   ]
  },
  {
   "cell_type": "markdown",
   "metadata": {},
   "source": [
    "#### 7. Create a line plot of the cumulative return series for all five market capitalization groups."
   ]
  },
  {
   "cell_type": "code",
   "execution_count": 31,
   "metadata": {},
   "outputs": [
    {
     "data": {
      "image/png": "[encoded data removed]",
      "text/plain": [
       "<Figure size 640x480 with 1 Axes>"
      ]
     },
     "metadata": {},
     "output_type": "display_data"
    }
   ],
   "source": [
    "cumulative_returns = (1 + quintiles).cumprod() - 1\n",
    "\n",
    "# plot cumulative returns\n",
    "cumulative_returns.plot(kind='line')\n",
    "\n",
    "plt.title('Cumulative Returns by Market Capitalization Group')\n",
    "plt.xlabel('Date')\n",
    "plt.ylabel('Cumulative Return')\n",
    "plt.show()"
   ]
  }
 ],
 "metadata": {
  "anaconda-cloud": {},
  "kernelspec": {
   "display_name": "Python 3 (ipykernel)",
   "language": "python",
   "name": "python3"
  },
  "language_info": {
   "codemirror_mode": {
    "name": "ipython",
    "version": 3
   },
   "file_extension": ".py",
   "mimetype": "text/x-python",
   "name": "python",
   "nbconvert_exporter": "python",
   "pygments_lexer": "ipython3",
   "version": "3.8.13"
  }
 },
 "nbformat": 4,
 "nbformat_minor": 4
}
