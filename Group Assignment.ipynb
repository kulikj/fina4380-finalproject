{
 "cells": [
  {
   "cell_type": "markdown",
   "metadata": {},
   "source": [
    "## Group Assignment"
   ]
  },
  {
   "cell_type": "markdown",
   "metadata": {},
   "source": [
    "#### Import the necessary libraries"
   ]
  },
  {
   "cell_type": "code",
   "execution_count": 3,
   "metadata": {},
   "outputs": [],
   "source": [
    "import numpy as np\n",
    "import pandas as pd\n",
    "import datetime as dt\n",
    "import yfinance as yf\n",
    "from scipy.optimize import minimize\n",
    "import pandas_datareader.data as web\n",
    "import matplotlib.pyplot as plt"
   ]
  },
  {
   "cell_type": "markdown",
   "metadata": {},
   "source": [
    "#### All questions in Parts I and II apply to a random sample of 15 stocks that your group will be assigned by running the following code."
   ]
  },
  {
   "cell_type": "markdown",
   "metadata": {},
   "source": [
    "#### Random Sample Selection "
   ]
  },
  {
   "cell_type": "code",
   "execution_count": 16,
   "metadata": {},
   "outputs": [
    {
     "name": "stdout",
     "output_type": "stream",
     "text": [
      "These are the fifteen stocks assigned to you: V JNJ CAT CSCO CVX C NKE TRV MCD INTC DIS IBM PFE GS MRK\n"
     ]
    }
   ],
   "source": [
    "np.random.seed (2051 + 11)\n",
    "ticker_list = ['AAPL', 'AXP', 'BA', 'C','CAT', 'CSCO', 'CVX', 'DIS', 'GS', 'HD', 'IBM', 'INTC', 'JNJ', 'JPM', 'KO',\n",
    "            'MCD', 'MMM', 'MRK', 'MSFT', 'NKE', 'PFE', 'PG', 'TRV', 'UNH', 'V', 'VZ', 'WMT', 'XOM']\n",
    "\n",
    "stock_list = np.random.choice(ticker_list,15,replace=False)\n",
    "print(f'These are the fifteen stocks assigned to you: {\" \".join(stock_list)}')"
   ]
  },
  {
   "cell_type": "markdown",
   "metadata": {},
   "source": [
    "### PART I"
   ]
  },
  {
   "cell_type": "markdown",
   "metadata": {},
   "source": [
    "#### 1. Find the optimal portfolio over the period January 2015 - December 2019, using the fifteen stocks assigned to your group. Assume there are no short-selling constraints."
   ]
  },
  {
   "cell_type": "code",
   "execution_count": 43,
   "metadata": {
    "scrolled": true
   },
   "outputs": [
    {
     "name": "stdout",
     "output_type": "stream",
     "text": [
      "[*********************100%***********************]  15 of 15 completed\n"
     ]
    },
    {
     "data": {
      "text/html": [
       "<div>\n",
       "<style scoped>\n",
       "    .dataframe tbody tr th:only-of-type {\n",
       "        vertical-align: middle;\n",
       "    }\n",
       "\n",
       "    .dataframe tbody tr th {\n",
       "        vertical-align: top;\n",
       "    }\n",
       "\n",
       "    .dataframe thead th {\n",
       "        text-align: right;\n",
       "    }\n",
       "</style>\n",
       "<table border=\"1\" class=\"dataframe\">\n",
       "  <thead>\n",
       "    <tr style=\"text-align: right;\">\n",
       "      <th></th>\n",
       "      <th>C</th>\n",
       "      <th>CAT</th>\n",
       "      <th>CSCO</th>\n",
       "      <th>CVX</th>\n",
       "      <th>DIS</th>\n",
       "      <th>GS</th>\n",
       "      <th>IBM</th>\n",
       "      <th>INTC</th>\n",
       "      <th>JNJ</th>\n",
       "      <th>MCD</th>\n",
       "      <th>MRK</th>\n",
       "      <th>NKE</th>\n",
       "      <th>PFE</th>\n",
       "      <th>TRV</th>\n",
       "      <th>V</th>\n",
       "    </tr>\n",
       "    <tr>\n",
       "      <th>Date</th>\n",
       "      <th></th>\n",
       "      <th></th>\n",
       "      <th></th>\n",
       "      <th></th>\n",
       "      <th></th>\n",
       "      <th></th>\n",
       "      <th></th>\n",
       "      <th></th>\n",
       "      <th></th>\n",
       "      <th></th>\n",
       "      <th></th>\n",
       "      <th></th>\n",
       "      <th></th>\n",
       "      <th></th>\n",
       "      <th></th>\n",
       "    </tr>\n",
       "  </thead>\n",
       "  <tbody>\n",
       "    <tr>\n",
       "      <th>2015-01-02</th>\n",
       "      <td>0.002772</td>\n",
       "      <td>0.003824</td>\n",
       "      <td>-0.000724</td>\n",
       "      <td>0.003565</td>\n",
       "      <td>-0.004671</td>\n",
       "      <td>0.002992</td>\n",
       "      <td>0.010097</td>\n",
       "      <td>0.001929</td>\n",
       "      <td>-0.000478</td>\n",
       "      <td>-0.004696</td>\n",
       "      <td>0.007043</td>\n",
       "      <td>-0.011649</td>\n",
       "      <td>0.005779</td>\n",
       "      <td>-0.003874</td>\n",
       "      <td>0.010755</td>\n",
       "    </tr>\n",
       "    <tr>\n",
       "      <th>2015-01-05</th>\n",
       "      <td>-0.031515</td>\n",
       "      <td>-0.052786</td>\n",
       "      <td>-0.019920</td>\n",
       "      <td>-0.039971</td>\n",
       "      <td>-0.014613</td>\n",
       "      <td>-0.031223</td>\n",
       "      <td>-0.015735</td>\n",
       "      <td>-0.011276</td>\n",
       "      <td>-0.006984</td>\n",
       "      <td>-0.011045</td>\n",
       "      <td>0.014863</td>\n",
       "      <td>-0.016100</td>\n",
       "      <td>-0.005426</td>\n",
       "      <td>-0.012045</td>\n",
       "      <td>-0.022074</td>\n",
       "    </tr>\n",
       "    <tr>\n",
       "      <th>2015-01-06</th>\n",
       "      <td>-0.035204</td>\n",
       "      <td>-0.006435</td>\n",
       "      <td>-0.000370</td>\n",
       "      <td>-0.000463</td>\n",
       "      <td>-0.005304</td>\n",
       "      <td>-0.020229</td>\n",
       "      <td>-0.021566</td>\n",
       "      <td>-0.018637</td>\n",
       "      <td>-0.004914</td>\n",
       "      <td>0.001843</td>\n",
       "      <td>0.039283</td>\n",
       "      <td>-0.005882</td>\n",
       "      <td>0.008344</td>\n",
       "      <td>-0.008928</td>\n",
       "      <td>-0.006444</td>\n",
       "    </tr>\n",
       "    <tr>\n",
       "      <th>2015-01-07</th>\n",
       "      <td>0.009270</td>\n",
       "      <td>0.015497</td>\n",
       "      <td>0.009242</td>\n",
       "      <td>-0.000833</td>\n",
       "      <td>0.010230</td>\n",
       "      <td>0.014903</td>\n",
       "      <td>-0.006535</td>\n",
       "      <td>0.020975</td>\n",
       "      <td>0.022076</td>\n",
       "      <td>0.017424</td>\n",
       "      <td>0.021386</td>\n",
       "      <td>0.020656</td>\n",
       "      <td>0.013686</td>\n",
       "      <td>0.017048</td>\n",
       "      <td>0.013398</td>\n",
       "    </tr>\n",
       "    <tr>\n",
       "      <th>2015-01-08</th>\n",
       "      <td>0.015048</td>\n",
       "      <td>0.010249</td>\n",
       "      <td>0.007692</td>\n",
       "      <td>0.022883</td>\n",
       "      <td>0.010341</td>\n",
       "      <td>0.015966</td>\n",
       "      <td>0.021735</td>\n",
       "      <td>0.018601</td>\n",
       "      <td>0.007863</td>\n",
       "      <td>0.003723</td>\n",
       "      <td>0.020127</td>\n",
       "      <td>0.023084</td>\n",
       "      <td>0.020408</td>\n",
       "      <td>0.020762</td>\n",
       "      <td>0.013413</td>\n",
       "    </tr>\n",
       "  </tbody>\n",
       "</table>\n",
       "</div>"
      ],
      "text/plain": [
       "                   C       CAT      CSCO       CVX       DIS        GS  \\\n",
       "Date                                                                     \n",
       "2015-01-02  0.002772  0.003824 -0.000724  0.003565 -0.004671  0.002992   \n",
       "2015-01-05 -0.031515 -0.052786 -0.019920 -0.039971 -0.014613 -0.031223   \n",
       "2015-01-06 -0.035204 -0.006435 -0.000370 -0.000463 -0.005304 -0.020229   \n",
       "2015-01-07  0.009270  0.015497  0.009242 -0.000833  0.010230  0.014903   \n",
       "2015-01-08  0.015048  0.010249  0.007692  0.022883  0.010341  0.015966   \n",
       "\n",
       "                 IBM      INTC       JNJ       MCD       MRK       NKE  \\\n",
       "Date                                                                     \n",
       "2015-01-02  0.010097  0.001929 -0.000478 -0.004696  0.007043 -0.011649   \n",
       "2015-01-05 -0.015735 -0.011276 -0.006984 -0.011045  0.014863 -0.016100   \n",
       "2015-01-06 -0.021566 -0.018637 -0.004914  0.001843  0.039283 -0.005882   \n",
       "2015-01-07 -0.006535  0.020975  0.022076  0.017424  0.021386  0.020656   \n",
       "2015-01-08  0.021735  0.018601  0.007863  0.003723  0.020127  0.023084   \n",
       "\n",
       "                 PFE       TRV         V  \n",
       "Date                                      \n",
       "2015-01-02  0.005779 -0.003874  0.010755  \n",
       "2015-01-05 -0.005426 -0.012045 -0.022074  \n",
       "2015-01-06  0.008344 -0.008928 -0.006444  \n",
       "2015-01-07  0.013686  0.017048  0.013398  \n",
       "2015-01-08  0.020408  0.020762  0.013413  "
      ]
     },
     "execution_count": 43,
     "metadata": {},
     "output_type": "execute_result"
    }
   ],
   "source": [
    "start=dt.datetime(2015,1,1)\n",
    "end=dt.datetime(2019,12,31)\n",
    "df=yf.download(list(stock_list),start-pd.offsets.BDay(1),end+pd.offsets.BDay(1))['Adj Close'].pct_change().dropna()\n",
    "df.head()"
   ]
  },
  {
   "cell_type": "code",
   "execution_count": 44,
   "metadata": {},
   "outputs": [
    {
     "data": {
      "text/html": [
       "<div>\n",
       "<style scoped>\n",
       "    .dataframe tbody tr th:only-of-type {\n",
       "        vertical-align: middle;\n",
       "    }\n",
       "\n",
       "    .dataframe tbody tr th {\n",
       "        vertical-align: top;\n",
       "    }\n",
       "\n",
       "    .dataframe thead th {\n",
       "        text-align: right;\n",
       "    }\n",
       "</style>\n",
       "<table border=\"1\" class=\"dataframe\">\n",
       "  <thead>\n",
       "    <tr style=\"text-align: right;\">\n",
       "      <th></th>\n",
       "      <th>C</th>\n",
       "      <th>CAT</th>\n",
       "      <th>CSCO</th>\n",
       "      <th>CVX</th>\n",
       "      <th>DIS</th>\n",
       "      <th>GS</th>\n",
       "      <th>IBM</th>\n",
       "      <th>INTC</th>\n",
       "      <th>JNJ</th>\n",
       "      <th>MCD</th>\n",
       "      <th>MRK</th>\n",
       "      <th>NKE</th>\n",
       "      <th>PFE</th>\n",
       "      <th>TRV</th>\n",
       "      <th>V</th>\n",
       "    </tr>\n",
       "    <tr>\n",
       "      <th>Date</th>\n",
       "      <th></th>\n",
       "      <th></th>\n",
       "      <th></th>\n",
       "      <th></th>\n",
       "      <th></th>\n",
       "      <th></th>\n",
       "      <th></th>\n",
       "      <th></th>\n",
       "      <th></th>\n",
       "      <th></th>\n",
       "      <th></th>\n",
       "      <th></th>\n",
       "      <th></th>\n",
       "      <th></th>\n",
       "      <th></th>\n",
       "    </tr>\n",
       "  </thead>\n",
       "  <tbody>\n",
       "    <tr>\n",
       "      <th>2019-08-31</th>\n",
       "      <td>-0.088902</td>\n",
       "      <td>-0.096225</td>\n",
       "      <td>-0.155054</td>\n",
       "      <td>-0.033952</td>\n",
       "      <td>-0.040207</td>\n",
       "      <td>-0.067870</td>\n",
       "      <td>-0.074967</td>\n",
       "      <td>-0.055784</td>\n",
       "      <td>-0.006897</td>\n",
       "      <td>0.039876</td>\n",
       "      <td>0.041933</td>\n",
       "      <td>-0.015247</td>\n",
       "      <td>-0.076144</td>\n",
       "      <td>0.002319</td>\n",
       "      <td>0.017308</td>\n",
       "    </tr>\n",
       "    <tr>\n",
       "      <th>2019-09-30</th>\n",
       "      <td>0.073504</td>\n",
       "      <td>0.061428</td>\n",
       "      <td>0.055544</td>\n",
       "      <td>0.007475</td>\n",
       "      <td>-0.050561</td>\n",
       "      <td>0.016282</td>\n",
       "      <td>0.072973</td>\n",
       "      <td>0.086902</td>\n",
       "      <td>0.007947</td>\n",
       "      <td>-0.014956</td>\n",
       "      <td>-0.020014</td>\n",
       "      <td>0.111480</td>\n",
       "      <td>0.010689</td>\n",
       "      <td>0.017229</td>\n",
       "      <td>-0.048723</td>\n",
       "    </tr>\n",
       "    <tr>\n",
       "      <th>2019-10-31</th>\n",
       "      <td>0.040243</td>\n",
       "      <td>0.099542</td>\n",
       "      <td>-0.031171</td>\n",
       "      <td>-0.020742</td>\n",
       "      <td>-0.003069</td>\n",
       "      <td>0.029677</td>\n",
       "      <td>-0.080388</td>\n",
       "      <td>0.097031</td>\n",
       "      <td>0.020559</td>\n",
       "      <td>-0.083881</td>\n",
       "      <td>0.029461</td>\n",
       "      <td>-0.046529</td>\n",
       "      <td>0.067910</td>\n",
       "      <td>-0.118569</td>\n",
       "      <td>0.039823</td>\n",
       "    </tr>\n",
       "    <tr>\n",
       "      <th>2019-11-30</th>\n",
       "      <td>0.052838</td>\n",
       "      <td>0.050290</td>\n",
       "      <td>-0.046306</td>\n",
       "      <td>0.018462</td>\n",
       "      <td>0.166718</td>\n",
       "      <td>0.043200</td>\n",
       "      <td>0.017259</td>\n",
       "      <td>0.032540</td>\n",
       "      <td>0.048490</td>\n",
       "      <td>-0.004950</td>\n",
       "      <td>0.006000</td>\n",
       "      <td>0.046722</td>\n",
       "      <td>0.013611</td>\n",
       "      <td>0.043186</td>\n",
       "      <td>0.033317</td>\n",
       "    </tr>\n",
       "    <tr>\n",
       "      <th>2019-12-31</th>\n",
       "      <td>0.063498</td>\n",
       "      <td>0.020383</td>\n",
       "      <td>0.058486</td>\n",
       "      <td>0.028857</td>\n",
       "      <td>-0.040134</td>\n",
       "      <td>0.038762</td>\n",
       "      <td>-0.003050</td>\n",
       "      <td>0.031008</td>\n",
       "      <td>0.060950</td>\n",
       "      <td>0.016094</td>\n",
       "      <td>0.050398</td>\n",
       "      <td>0.083645</td>\n",
       "      <td>0.017134</td>\n",
       "      <td>0.007771</td>\n",
       "      <td>0.018373</td>\n",
       "    </tr>\n",
       "  </tbody>\n",
       "</table>\n",
       "</div>"
      ],
      "text/plain": [
       "                   C       CAT      CSCO       CVX       DIS        GS  \\\n",
       "Date                                                                     \n",
       "2019-08-31 -0.088902 -0.096225 -0.155054 -0.033952 -0.040207 -0.067870   \n",
       "2019-09-30  0.073504  0.061428  0.055544  0.007475 -0.050561  0.016282   \n",
       "2019-10-31  0.040243  0.099542 -0.031171 -0.020742 -0.003069  0.029677   \n",
       "2019-11-30  0.052838  0.050290 -0.046306  0.018462  0.166718  0.043200   \n",
       "2019-12-31  0.063498  0.020383  0.058486  0.028857 -0.040134  0.038762   \n",
       "\n",
       "                 IBM      INTC       JNJ       MCD       MRK       NKE  \\\n",
       "Date                                                                     \n",
       "2019-08-31 -0.074967 -0.055784 -0.006897  0.039876  0.041933 -0.015247   \n",
       "2019-09-30  0.072973  0.086902  0.007947 -0.014956 -0.020014  0.111480   \n",
       "2019-10-31 -0.080388  0.097031  0.020559 -0.083881  0.029461 -0.046529   \n",
       "2019-11-30  0.017259  0.032540  0.048490 -0.004950  0.006000  0.046722   \n",
       "2019-12-31 -0.003050  0.031008  0.060950  0.016094  0.050398  0.083645   \n",
       "\n",
       "                 PFE       TRV         V  \n",
       "Date                                      \n",
       "2019-08-31 -0.076144  0.002319  0.017308  \n",
       "2019-09-30  0.010689  0.017229 -0.048723  \n",
       "2019-10-31  0.067910 -0.118569  0.039823  \n",
       "2019-11-30  0.013611  0.043186  0.033317  \n",
       "2019-12-31  0.017134  0.007771  0.018373  "
      ]
     },
     "execution_count": 44,
     "metadata": {},
     "output_type": "execute_result"
    }
   ],
   "source": [
    "df = df.resample(rule = 'M').apply(lambda x: x.add(1).prod().sub(1))\n",
    "df.tail()"
   ]
  },
  {
   "cell_type": "code",
   "execution_count": 45,
   "metadata": {},
   "outputs": [
    {
     "data": {
      "text/html": [
       "<div>\n",
       "<style scoped>\n",
       "    .dataframe tbody tr th:only-of-type {\n",
       "        vertical-align: middle;\n",
       "    }\n",
       "\n",
       "    .dataframe tbody tr th {\n",
       "        vertical-align: top;\n",
       "    }\n",
       "\n",
       "    .dataframe thead th {\n",
       "        text-align: right;\n",
       "    }\n",
       "</style>\n",
       "<table border=\"1\" class=\"dataframe\">\n",
       "  <thead>\n",
       "    <tr style=\"text-align: right;\">\n",
       "      <th></th>\n",
       "      <th>RF</th>\n",
       "    </tr>\n",
       "    <tr>\n",
       "      <th>Date</th>\n",
       "      <th></th>\n",
       "    </tr>\n",
       "  </thead>\n",
       "  <tbody>\n",
       "    <tr>\n",
       "      <th>2019-08-31</th>\n",
       "      <td>0.0016</td>\n",
       "    </tr>\n",
       "    <tr>\n",
       "      <th>2019-09-30</th>\n",
       "      <td>0.0018</td>\n",
       "    </tr>\n",
       "    <tr>\n",
       "      <th>2019-10-31</th>\n",
       "      <td>0.0016</td>\n",
       "    </tr>\n",
       "    <tr>\n",
       "      <th>2019-11-30</th>\n",
       "      <td>0.0012</td>\n",
       "    </tr>\n",
       "    <tr>\n",
       "      <th>2019-12-31</th>\n",
       "      <td>0.0014</td>\n",
       "    </tr>\n",
       "  </tbody>\n",
       "</table>\n",
       "</div>"
      ],
      "text/plain": [
       "                RF\n",
       "Date              \n",
       "2019-08-31  0.0016\n",
       "2019-09-30  0.0018\n",
       "2019-10-31  0.0016\n",
       "2019-11-30  0.0012\n",
       "2019-12-31  0.0014"
      ]
     },
     "execution_count": 45,
     "metadata": {},
     "output_type": "execute_result"
    }
   ],
   "source": [
    "rf = web.DataReader('F-F_Research_Data_Factors','famafrench', start, end)[0][['RF']].div(100)\n",
    "\n",
    "rf.index = rf.index.to_timestamp(how='end').normalize()\n",
    "\n",
    "rf.tail()"
   ]
  },
  {
   "cell_type": "code",
   "execution_count": 46,
   "metadata": {},
   "outputs": [],
   "source": [
    "df = df[df.index<=rf.index[-1]]"
   ]
  },
  {
   "cell_type": "code",
   "execution_count": 47,
   "metadata": {},
   "outputs": [],
   "source": [
    "# Define the portfolio returns function\n",
    "def port_ret(weights):\n",
    "    port_ret = np.dot(df*12,weights).mean()\n",
    "    return port_ret\n",
    "\n",
    "# Define the portfolio standard deviation function\n",
    "def port_std(weights):\n",
    "    port_std = np.sqrt(np.dot(weights, np.dot(df.cov()*12, weights)))\n",
    "    return port_std\n",
    "\n",
    "# Define the excess portfolio returns function\n",
    "def ex_port_ret(weights):\n",
    "    ex_port_ret = (np.dot(df,weights) - rf['RF']).mean()*12\n",
    "    return ex_port_ret\n",
    "\n",
    "# Define the excess portfolio standard deviation function\n",
    "def ex_port_std(weights):\n",
    "    ex_port_std = (np.dot(df,weights) - rf['RF']).std()*np.sqrt(12)\n",
    "    return ex_port_std\n",
    "\n",
    "# Define the negative Sharpe Ratio function that we will minimize\n",
    "def neg_SR(weights):\n",
    "    SR = ex_port_ret(weights) / ex_port_std(weights)\n",
    "    return (-1)*SR"
   ]
  },
  {
   "cell_type": "code",
   "execution_count": 48,
   "metadata": {},
   "outputs": [],
   "source": [
    "# setting up constraints\n",
    "constraints = ({'type':'eq','fun': lambda weights: np.sum(weights) - 1})\n",
    "\n",
    "# equally weighted first guess\n",
    "init_guess = np.full(len(df.columns), 1/len(df.columns))"
   ]
  },
  {
   "cell_type": "code",
   "execution_count": 49,
   "metadata": {},
   "outputs": [
    {
     "data": {
      "text/plain": [
       "     fun: -2.021367033373226\n",
       "     jac: array([-0.07702711, -0.07684243, -0.07683203, -0.0772208 , -0.07583207,\n",
       "       -0.07734382, -0.07695726, -0.07688063, -0.07660535, -0.07636908,\n",
       "       -0.07693163, -0.07695597, -0.07753477, -0.07631686, -0.07711744])\n",
       " message: 'Optimization terminated successfully'\n",
       "    nfev: 233\n",
       "     nit: 14\n",
       "    njev: 14\n",
       "  status: 0\n",
       " success: True\n",
       "       x: array([-0.12048765,  0.12277952, -0.02767407, -0.256125  , -0.02935396,\n",
       "        0.10965568, -0.10605186,  0.12656446, -0.07922199,  0.60432083,\n",
       "        0.17241865,  0.30115424,  0.06801947, -0.30607049,  0.42007217])"
      ]
     },
     "execution_count": 49,
     "metadata": {},
     "output_type": "execute_result"
    }
   ],
   "source": [
    "# creating the optimal portfolio\n",
    "optimal_port = minimize(neg_SR,init_guess,constraints=constraints)\n",
    "optimal_port"
   ]
  },
  {
   "cell_type": "markdown",
   "metadata": {},
   "source": [
    "#### 2. What are the weights of the stocks in the optimal portfolio?"
   ]
  },
  {
   "cell_type": "code",
   "execution_count": 50,
   "metadata": {},
   "outputs": [
    {
     "name": "stdout",
     "output_type": "stream",
     "text": [
      "V  -0.1205  JNJ  0.1228  CAT  -0.0277  CSCO  -0.2561  CVX  -0.0294  C  0.1097  NKE  -0.1061  TRV  0.1266  MCD  -0.0792  INTC  0.6043  DIS  0.1724  IBM  0.3012  PFE  0.068  GS  -0.3061  MRK  0.4201  "
     ]
    }
   ],
   "source": [
    "# weights of portfolio\n",
    "for tic in stock_list:\n",
    "    print(tic + \"  \"+ str(round(optimal_port.x[list(stock_list).index(tic)],4)),end=\"  \")"
   ]
  },
  {
   "cell_type": "markdown",
   "metadata": {},
   "source": [
    "#### 3. What was the annualized average monthly return for the optimal portfolio?"
   ]
  },
  {
   "cell_type": "code",
   "execution_count": 51,
   "metadata": {},
   "outputs": [
    {
     "data": {
      "text/plain": [
       "0.262890325175225"
      ]
     },
     "execution_count": 51,
     "metadata": {},
     "output_type": "execute_result"
    }
   ],
   "source": [
    "# portfolio return\n",
    "port_ret(optimal_port.x)"
   ]
  },
  {
   "cell_type": "markdown",
   "metadata": {},
   "source": [
    "#### 4. What was the annualized monthly standard deviation for the optimal portfolio?"
   ]
  },
  {
   "cell_type": "code",
   "execution_count": 52,
   "metadata": {},
   "outputs": [
    {
     "data": {
      "text/plain": [
       "0.12531917607879195"
      ]
     },
     "execution_count": 52,
     "metadata": {},
     "output_type": "execute_result"
    }
   ],
   "source": [
    "# std of portfolio\n",
    "port_std(optimal_port.x)"
   ]
  },
  {
   "cell_type": "markdown",
   "metadata": {},
   "source": [
    "#### 5. What was the Sharpe Ratio of the optimal portfolio?"
   ]
  },
  {
   "cell_type": "code",
   "execution_count": 54,
   "metadata": {},
   "outputs": [
    {
     "data": {
      "text/plain": [
       "2.021367033373226"
      ]
     },
     "execution_count": 54,
     "metadata": {},
     "output_type": "execute_result"
    }
   ],
   "source": [
    "# sharpe ratio\n",
    "-optimal_port.fun"
   ]
  },
  {
   "cell_type": "markdown",
   "metadata": {},
   "source": [
    "### PART II"
   ]
  },
  {
   "cell_type": "markdown",
   "metadata": {
    "tags": []
   },
   "source": [
    "#### 1. Create a DataFrame named optimal_weights to store the weights from a portfolio optimization performed on a rolling basis. Specifically, the optimization should use a 60 month rolling window, and be performed every month. The first 60 months correspond to the sample period for data_initial (01/2015 - 12/2019) created in question 3. Hence, the first observation in the optimal_weights DataFrame should be the weights you listed above in Part I. The next 60 month period should be 02/2015 - 01/2020, followed by 03/2015 - 02/2020, and so on. The last 60 month period should be 03/2018 - 02/2023. Again, assume there are no short-selling constraints."
   ]
  },
  {
   "cell_type": "code",
   "execution_count": null,
   "metadata": {},
   "outputs": [],
   "source": []
  },
  {
   "cell_type": "markdown",
   "metadata": {
    "tags": []
   },
   "source": [
    "#### 2. Create a new DataFrame named port_returns to store the monthly returns over the sample period 01/2020 - 02/2023 for the following portfolios:\n",
    " 1) A monthly rebalanced portfolio using the rolling optimal weights. Specifically, the portfolio return for 01/2020 should be based on the weights as of 12/2019 (the same values detailed in Part I and in the first row in the optimal_weights DataFrame), the portfolio return for 02/2020 should be based on the weights as of 01/2020 and so on. Label the portfolio (MRoll_Reb_OP, an acronym for Monthly Rolling Rebalanced Optimal Portfolio). \n",
    " 2) A monthly rebalanced portfolio using the optimal weights as of 12/2019. Label the portfolio (M_Reb_OP, an acronym for Monthly Rebalancing Optimal Portfolio).\n",
    " 3) A monthly rebalanced equally-weighted portfolio. Label the portfolio (M_Reb_EW, an acronym for Monthly Rebalancing Equally-Weighted Portfolio).\n",
    " 4) A buy and hold portfolio, initially allocated according to the optimal weights as of 12/2019. Label the portfolio (BH_OP, an acronym for Buy and Hold Optimal Portfolio).\n",
    " 5) A buy and hold portfolio, initially allocated equally across stocks. Label the portfolio (BH_EW, an acronym for Buy and Hold Equally-Weighted Portfolio)."
   ]
  },
  {
   "cell_type": "code",
   "execution_count": null,
   "metadata": {},
   "outputs": [],
   "source": []
  },
  {
   "cell_type": "markdown",
   "metadata": {},
   "source": [
    "#### 3. Create a DataFrame port_stats (with a 3x5 shape) to store the annualized average monthly return, the annualized monthly standard deviation and the Sharpe ratio for all 5 portfolios."
   ]
  },
  {
   "cell_type": "code",
   "execution_count": null,
   "metadata": {},
   "outputs": [],
   "source": []
  },
  {
   "cell_type": "markdown",
   "metadata": {},
   "source": [
    "#### 4. Compute the cumulative return series for all portfolios and plot them in the same graph. "
   ]
  },
  {
   "cell_type": "code",
   "execution_count": null,
   "metadata": {},
   "outputs": [],
   "source": []
  },
  {
   "cell_type": "markdown",
   "metadata": {},
   "source": [
    "#### 5. What was the cumulative return for the best performing portfolio? What was the cumulative return for the worst performing portfolio?"
   ]
  },
  {
   "cell_type": "code",
   "execution_count": null,
   "metadata": {},
   "outputs": [],
   "source": []
  },
  {
   "cell_type": "markdown",
   "metadata": {},
   "source": [
    "### PART III - Examination of the Size Effect"
   ]
  },
  {
   "cell_type": "markdown",
   "metadata": {},
   "source": [
    "Please download the file \"crsp_fall22.csv\" located in folder Group_Assignment. The file contains the following columns:\n",
    "* PERMNO - Permanent number (unique identifer for the stock)\n",
    "* DATE\n",
    "* PRC - The closing price\n",
    "* VOL - Trading volume (in hundreds)\n",
    "* RET - The simple return\n",
    "* SHROUT - The number of shares outstanding (in thousands)\n",
    "* CFACPR - Cumulative factor to adjust the closing price\n",
    "* CFACSHR - Cumulative factor to adjust shares outstanding"
   ]
  },
  {
   "cell_type": "markdown",
   "metadata": {
    "tags": []
   },
   "source": [
    "#### 1. Create a DataFrame named fin_data by reading in the columns DATE, PERMNO, RET, PRC and SHROUT from the file 'crsp_fall22.csv'. Set the DATE as the index. In addition, change each index value to the end of the month. For example, change '1926-05-30' to 1926-05-31', or '1987-01-30' to '1987-01-31'. In addition, create a new column (labeled MKTCAP) to store the market capitalization (defined as PRC * SHROUT). Subsequently, permanently remove the PRC and SHROUT columns."
   ]
  },
  {
   "cell_type": "code",
   "execution_count": 109,
   "metadata": {},
   "outputs": [],
   "source": [
    "fin_data = pd.read_csv('crsp_fall22.csv', dtype={'PERMNO':np.int64},\n",
    "                       usecols=['DATE', 'PERMNO', 'RET', 'PRC', 'SHROUT'])\n",
    "\n",
    "# convert date col and make the end of the month the index\n",
    "fin_data['DATE'] = pd.to_datetime(fin_data['DATE'], format='%Y-%m-%d')\n",
    "fin_data.set_index('DATE', inplace=True)\n",
    "fin_data.index = fin_data.index + pd.offsets.MonthEnd(0)\n",
    "\n",
    "# create the MKTCAP column\n",
    "fin_data['MKTCAP'] = fin_data['PRC'] * fin_data['SHROUT']\n",
    "\n",
    "# drop cols\n",
    "fin_data.drop(columns=['PRC', 'SHROUT'], inplace=True)"
   ]
  },
  {
   "cell_type": "code",
   "execution_count": 110,
   "metadata": {},
   "outputs": [
    {
     "data": {
      "text/html": [
       "<div>\n",
       "<style scoped>\n",
       "    .dataframe tbody tr th:only-of-type {\n",
       "        vertical-align: middle;\n",
       "    }\n",
       "\n",
       "    .dataframe tbody tr th {\n",
       "        vertical-align: top;\n",
       "    }\n",
       "\n",
       "    .dataframe thead th {\n",
       "        text-align: right;\n",
       "    }\n",
       "</style>\n",
       "<table border=\"1\" class=\"dataframe\">\n",
       "  <thead>\n",
       "    <tr style=\"text-align: right;\">\n",
       "      <th></th>\n",
       "      <th>PERMNO</th>\n",
       "      <th>RET</th>\n",
       "      <th>MKTCAP</th>\n",
       "    </tr>\n",
       "    <tr>\n",
       "      <th>DATE</th>\n",
       "      <th></th>\n",
       "      <th></th>\n",
       "      <th></th>\n",
       "    </tr>\n",
       "  </thead>\n",
       "  <tbody>\n",
       "    <tr>\n",
       "      <th>1990-01-31</th>\n",
       "      <td>21573</td>\n",
       "      <td>-0.106195</td>\n",
       "      <td>5.499450e+06</td>\n",
       "    </tr>\n",
       "    <tr>\n",
       "      <th>1990-01-31</th>\n",
       "      <td>55160</td>\n",
       "      <td>-0.190476</td>\n",
       "      <td>2.067094e+03</td>\n",
       "    </tr>\n",
       "    <tr>\n",
       "      <th>1990-01-31</th>\n",
       "      <td>45129</td>\n",
       "      <td>-0.086420</td>\n",
       "      <td>1.892550e+05</td>\n",
       "    </tr>\n",
       "    <tr>\n",
       "      <th>1990-01-31</th>\n",
       "      <td>22250</td>\n",
       "      <td>-0.174684</td>\n",
       "      <td>3.117920e+05</td>\n",
       "    </tr>\n",
       "    <tr>\n",
       "      <th>1990-01-31</th>\n",
       "      <td>60468</td>\n",
       "      <td>-0.071429</td>\n",
       "      <td>2.227225e+04</td>\n",
       "    </tr>\n",
       "    <tr>\n",
       "      <th>...</th>\n",
       "      <td>...</td>\n",
       "      <td>...</td>\n",
       "      <td>...</td>\n",
       "    </tr>\n",
       "    <tr>\n",
       "      <th>2022-03-31</th>\n",
       "      <td>16400</td>\n",
       "      <td>-0.070234</td>\n",
       "      <td>2.676084e+05</td>\n",
       "    </tr>\n",
       "    <tr>\n",
       "      <th>2022-03-31</th>\n",
       "      <td>16401</td>\n",
       "      <td>0.424749</td>\n",
       "      <td>9.943693e+04</td>\n",
       "    </tr>\n",
       "    <tr>\n",
       "      <th>2022-03-31</th>\n",
       "      <td>90664</td>\n",
       "      <td>0.236017</td>\n",
       "      <td>4.965897e+07</td>\n",
       "    </tr>\n",
       "    <tr>\n",
       "      <th>2022-03-31</th>\n",
       "      <td>90637</td>\n",
       "      <td>0.147917</td>\n",
       "      <td>1.278777e+05</td>\n",
       "    </tr>\n",
       "    <tr>\n",
       "      <th>2022-03-31</th>\n",
       "      <td>93436</td>\n",
       "      <td>0.238009</td>\n",
       "      <td>1.113736e+09</td>\n",
       "    </tr>\n",
       "  </tbody>\n",
       "</table>\n",
       "<p>1929417 rows × 3 columns</p>\n",
       "</div>"
      ],
      "text/plain": [
       "            PERMNO       RET        MKTCAP\n",
       "DATE                                      \n",
       "1990-01-31   21573 -0.106195  5.499450e+06\n",
       "1990-01-31   55160 -0.190476  2.067094e+03\n",
       "1990-01-31   45129 -0.086420  1.892550e+05\n",
       "1990-01-31   22250 -0.174684  3.117920e+05\n",
       "1990-01-31   60468 -0.071429  2.227225e+04\n",
       "...            ...       ...           ...\n",
       "2022-03-31   16400 -0.070234  2.676084e+05\n",
       "2022-03-31   16401  0.424749  9.943693e+04\n",
       "2022-03-31   90664  0.236017  4.965897e+07\n",
       "2022-03-31   90637  0.147917  1.278777e+05\n",
       "2022-03-31   93436  0.238009  1.113736e+09\n",
       "\n",
       "[1929417 rows x 3 columns]"
      ]
     },
     "execution_count": 110,
     "metadata": {},
     "output_type": "execute_result"
    }
   ],
   "source": [
    "fin_data"
   ]
  },
  {
   "cell_type": "markdown",
   "metadata": {},
   "source": [
    "#### 2. How many stocks are there in the sample? How many of these stocks are in the sample over the entire sample period?"
   ]
  },
  {
   "cell_type": "code",
   "execution_count": 111,
   "metadata": {},
   "outputs": [
    {
     "name": "stdout",
     "output_type": "stream",
     "text": [
      "The number of stocks in the sample is: 18153\n",
      "The number of stocks in the sample over the entire sample period is: 697\n"
     ]
    }
   ],
   "source": [
    "num_stocks = fin_data['PERMNO'].nunique()\n",
    "print(f\"The number of stocks in the sample is: {num_stocks}\")\n",
    "\n",
    "num_entire_stocks = fin_data.groupby('PERMNO').size().value_counts().loc[fin_data.index.nunique()]\n",
    "print(f\"The number of stocks in the sample over the entire sample period is: {num_entire_stocks}\")"
   ]
  },
  {
   "cell_type": "markdown",
   "metadata": {
    "tags": []
   },
   "source": [
    "#### 3. Every June, split the stocks into quintiles (five groups) based on their market capitalization. The header of a DataFrame named size_qt with the resulting split can be found below. "
   ]
  },
  {
   "cell_type": "code",
   "execution_count": 112,
   "metadata": {
    "scrolled": true
   },
   "outputs": [],
   "source": [
    "split_qt = fin_data.copy()\n",
    "# splitting into quintiles based off market cap\n",
    "\n",
    "split_qt['MKTCAP_QT'] = split_qt.groupby(pd.Grouper(freq='A-JUN'))['MKTCAP'].apply(lambda x: pd.qcut(x, 5, labels=False) + 1)\n",
    "\n",
    "size_qt = split_qt.reset_index()[['PERMNO', 'MKTCAP_QT', 'DATE']]\n",
    "\n",
    "# filter for only june\n",
    "size_qt = size_qt[size_qt['DATE'].dt.month == 6]\n",
    "size_qt = size_qt.set_index('DATE').sort_index()\n",
    "\n",
    "# offsetting to hit july\n",
    "size_qt.index = size_qt.index + pd.offsets.MonthEnd()"
   ]
  },
  {
   "cell_type": "code",
   "execution_count": 113,
   "metadata": {
    "scrolled": true,
    "tags": []
   },
   "outputs": [
    {
     "data": {
      "text/html": [
       "<div>\n",
       "<style scoped>\n",
       "    .dataframe tbody tr th:only-of-type {\n",
       "        vertical-align: middle;\n",
       "    }\n",
       "\n",
       "    .dataframe tbody tr th {\n",
       "        vertical-align: top;\n",
       "    }\n",
       "\n",
       "    .dataframe thead th {\n",
       "        text-align: right;\n",
       "    }\n",
       "</style>\n",
       "<table border=\"1\" class=\"dataframe\">\n",
       "  <thead>\n",
       "    <tr style=\"text-align: right;\">\n",
       "      <th></th>\n",
       "      <th>PERMNO</th>\n",
       "      <th>MKTCAP_QT</th>\n",
       "    </tr>\n",
       "    <tr>\n",
       "      <th>DATE</th>\n",
       "      <th></th>\n",
       "      <th></th>\n",
       "    </tr>\n",
       "  </thead>\n",
       "  <tbody>\n",
       "    <tr>\n",
       "      <th>1990-07-31</th>\n",
       "      <td>10294</td>\n",
       "      <td>3</td>\n",
       "    </tr>\n",
       "    <tr>\n",
       "      <th>1990-07-31</th>\n",
       "      <td>65496</td>\n",
       "      <td>3</td>\n",
       "    </tr>\n",
       "    <tr>\n",
       "      <th>1990-07-31</th>\n",
       "      <td>10905</td>\n",
       "      <td>2</td>\n",
       "    </tr>\n",
       "    <tr>\n",
       "      <th>1990-07-31</th>\n",
       "      <td>32037</td>\n",
       "      <td>1</td>\n",
       "    </tr>\n",
       "    <tr>\n",
       "      <th>1990-07-31</th>\n",
       "      <td>66288</td>\n",
       "      <td>5</td>\n",
       "    </tr>\n",
       "  </tbody>\n",
       "</table>\n",
       "</div>"
      ],
      "text/plain": [
       "            PERMNO  MKTCAP_QT\n",
       "DATE                         \n",
       "1990-07-31   10294          3\n",
       "1990-07-31   65496          3\n",
       "1990-07-31   10905          2\n",
       "1990-07-31   32037          1\n",
       "1990-07-31   66288          5"
      ]
     },
     "execution_count": 113,
     "metadata": {},
     "output_type": "execute_result"
    }
   ],
   "source": [
    "size_qt.sort_index().head()"
   ]
  },
  {
   "cell_type": "markdown",
   "metadata": {
    "tags": []
   },
   "source": [
    "#### 4. Create a new DataFrame named data by using the merge_asof() function to merge the DataFrames fin_data and size_qt. Specifically, merge each stock's June quintile allocation with the stock's monthly returns for the next 12 months starting the following July. Subsequently, set DATE as the index in the DataFrame."
   ]
  },
  {
   "cell_type": "code",
   "execution_count": 114,
   "metadata": {},
   "outputs": [],
   "source": [
    "data = pd.merge_asof(fin_data, size_qt, \n",
    "                            on='DATE',\n",
    "                            by='PERMNO', direction='backward')\n",
    "\n",
    "data.set_index('DATE', inplace=True)\n",
    "\n",
    "# dropping first 6 months\n",
    "data.dropna(inplace=True)"
   ]
  },
  {
   "cell_type": "markdown",
   "metadata": {},
   "source": [
    "#### 5. Create a new DataFrame called quintiles to store the average monthly return for each quintile. The header of the DataFrame can be found below:"
   ]
  },
  {
   "cell_type": "code",
   "execution_count": 115,
   "metadata": {},
   "outputs": [],
   "source": [
    "# taking the mean and unstacking the quantiles\n",
    "quintiles = data.groupby(['DATE', 'MKTCAP_QT'])['RET'].mean().unstack()\n",
    "quintiles.columns = ['Q1_RET', 'Q2_RET', 'Q3_RET', 'Q4_RET', 'Q5_RET']"
   ]
  },
  {
   "cell_type": "code",
   "execution_count": 116,
   "metadata": {
    "scrolled": true
   },
   "outputs": [
    {
     "data": {
      "text/html": [
       "<div>\n",
       "<style scoped>\n",
       "    .dataframe tbody tr th:only-of-type {\n",
       "        vertical-align: middle;\n",
       "    }\n",
       "\n",
       "    .dataframe tbody tr th {\n",
       "        vertical-align: top;\n",
       "    }\n",
       "\n",
       "    .dataframe thead th {\n",
       "        text-align: right;\n",
       "    }\n",
       "</style>\n",
       "<table border=\"1\" class=\"dataframe\">\n",
       "  <thead>\n",
       "    <tr style=\"text-align: right;\">\n",
       "      <th></th>\n",
       "      <th>Q1_RET</th>\n",
       "      <th>Q2_RET</th>\n",
       "      <th>Q3_RET</th>\n",
       "      <th>Q4_RET</th>\n",
       "      <th>Q5_RET</th>\n",
       "    </tr>\n",
       "    <tr>\n",
       "      <th>DATE</th>\n",
       "      <th></th>\n",
       "      <th></th>\n",
       "      <th></th>\n",
       "      <th></th>\n",
       "      <th></th>\n",
       "    </tr>\n",
       "  </thead>\n",
       "  <tbody>\n",
       "    <tr>\n",
       "      <th>1990-07-31</th>\n",
       "      <td>-0.001239</td>\n",
       "      <td>-0.043007</td>\n",
       "      <td>-0.041412</td>\n",
       "      <td>-0.041637</td>\n",
       "      <td>-0.028809</td>\n",
       "    </tr>\n",
       "    <tr>\n",
       "      <th>1990-08-31</th>\n",
       "      <td>-0.087260</td>\n",
       "      <td>-0.111380</td>\n",
       "      <td>-0.133862</td>\n",
       "      <td>-0.134542</td>\n",
       "      <td>-0.111322</td>\n",
       "    </tr>\n",
       "    <tr>\n",
       "      <th>1990-09-30</th>\n",
       "      <td>-0.044903</td>\n",
       "      <td>-0.091021</td>\n",
       "      <td>-0.092244</td>\n",
       "      <td>-0.098746</td>\n",
       "      <td>-0.081242</td>\n",
       "    </tr>\n",
       "    <tr>\n",
       "      <th>1990-10-31</th>\n",
       "      <td>-0.069386</td>\n",
       "      <td>-0.064657</td>\n",
       "      <td>-0.071607</td>\n",
       "      <td>-0.060954</td>\n",
       "      <td>-0.039792</td>\n",
       "    </tr>\n",
       "    <tr>\n",
       "      <th>1990-11-30</th>\n",
       "      <td>-0.011271</td>\n",
       "      <td>0.002051</td>\n",
       "      <td>0.027951</td>\n",
       "      <td>0.069232</td>\n",
       "      <td>0.100039</td>\n",
       "    </tr>\n",
       "  </tbody>\n",
       "</table>\n",
       "</div>"
      ],
      "text/plain": [
       "              Q1_RET    Q2_RET    Q3_RET    Q4_RET    Q5_RET\n",
       "DATE                                                        \n",
       "1990-07-31 -0.001239 -0.043007 -0.041412 -0.041637 -0.028809\n",
       "1990-08-31 -0.087260 -0.111380 -0.133862 -0.134542 -0.111322\n",
       "1990-09-30 -0.044903 -0.091021 -0.092244 -0.098746 -0.081242\n",
       "1990-10-31 -0.069386 -0.064657 -0.071607 -0.060954 -0.039792\n",
       "1990-11-30 -0.011271  0.002051  0.027951  0.069232  0.100039"
      ]
     },
     "execution_count": 116,
     "metadata": {},
     "output_type": "execute_result"
    }
   ],
   "source": [
    "quintiles.head()"
   ]
  },
  {
   "cell_type": "markdown",
   "metadata": {},
   "source": [
    "#### 6. Create a bar plot of the average monthly return for all five market capitalization groups, across the entire sample."
   ]
  },
  {
   "cell_type": "code",
   "execution_count": 117,
   "metadata": {},
   "outputs": [
    {
     "data": {
      "image/png": "[encoded data removed]",
      "text/plain": [
       "<Figure size 640x480 with 1 Axes>"
      ]
     },
     "metadata": {},
     "output_type": "display_data"
    }
   ],
   "source": [
    "quintiles.mean().plot(kind='bar')\n",
    "\n",
    "# plotting basics\n",
    "plt.title('Average Monthly Return by Market Capitalization Group')\n",
    "plt.xlabel('Market Capitalization Quintile')\n",
    "plt.ylabel('Average Monthly Return')\n",
    "plt.show()"
   ]
  },
  {
   "cell_type": "markdown",
   "metadata": {},
   "source": [
    "#### 7. Create a line plot of the cumulative return series for all five market capitalization groups."
   ]
  },
  {
   "cell_type": "code",
   "execution_count": 118,
   "metadata": {},
   "outputs": [
    {
     "data": {
      "image/png": "[encoded data removed]",
      "text/plain": [
       "<Figure size 640x480 with 1 Axes>"
      ]
     },
     "metadata": {},
     "output_type": "display_data"
    }
   ],
   "source": [
    "cumulative_returns = (1 + quintiles).cumprod() - 1\n",
    "\n",
    "# plot cumulative returns\n",
    "cumulative_returns.plot(kind='line')\n",
    "\n",
    "plt.title('Cumulative Returns by Market Capitalization Group')\n",
    "plt.xlabel('Date')\n",
    "plt.ylabel('Cumulative Return')\n",
    "plt.show()"
   ]
  }
 ],
 "metadata": {
  "anaconda-cloud": {},
  "kernelspec": {
   "display_name": "Python 3 (ipykernel)",
   "language": "python",
   "name": "python3"
  },
  "language_info": {
   "codemirror_mode": {
    "name": "ipython",
    "version": 3
   },
   "file_extension": ".py",
   "mimetype": "text/x-python",
   "name": "python",
   "nbconvert_exporter": "python",
   "pygments_lexer": "ipython3",
   "version": "3.8.13"
  }
 },
 "nbformat": 4,
 "nbformat_minor": 4
}
